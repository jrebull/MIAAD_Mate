{
  "nbformat": 4,
  "nbformat_minor": 0,
  "metadata": {
    "colab": {
      "provenance": [],
      "authorship_tag": "ABX9TyPeGNzZt8mALhTfPCGSt9iJ",
      "include_colab_link": true
    },
    "kernelspec": {
      "name": "python3",
      "display_name": "Python 3"
    },
    "language_info": {
      "name": "python"
    }
  },
  "cells": [
    {
      "cell_type": "markdown",
      "metadata": {
        "id": "view-in-github",
        "colab_type": "text"
      },
      "source": [
        "<a href=\"https://colab.research.google.com/github/jrebull/MIAAD_Mate/blob/main/MIAAD_Mate_Week_06_Factorizacion_de_Matrices.ipynb\" target=\"_parent\"><img src=\"https://colab.research.google.com/assets/colab-badge.svg\" alt=\"Open In Colab\"/></a>"
      ]
    },
    {
      "cell_type": "markdown",
      "source": [
        "# 🎓 Universidad Autónoma de Ciudad Juárez (UACJ)\n",
        "\n",
        "<center>\n",
        "\n",
        "[![Institution](https://img.shields.io/badge/Institution-UACJ-003366?style=for-the-badge&logo=data:image/svg+xml;base64,PHN2ZyB4bWxucz0iaHR0cDovL3d3dy53My5vcmcvMjAwMC9zdmciIHZpZXdCb3g9IjAgMCAyNTYgMjU2Ij48cGF0aCBmaWxsPSIjRkZGIiBkPSJNMjI0IDEyOGExNiAxNiAwIDAgMS0xNiAxNkg0OGExNiAxNiAwIDAgMSAwLTMyaDE2MGExNiAxNiAwIDAgMSAxNiAxNnptLTQzLjMyIDEwMS42NmExMiAxMiAwIDAgMC0xMi40MiAwbC0zMiAxOC4wOWE4IDggMCAwIDEtMTIuNSAwbC0zMi0xOC4wOWExMiAxMiAwIDAgMC0xMi40MiAwbC0xMi42MSAxMi42MWExMiAxMiAwIDAgMCAwIDE2Ljk4bDMyIDE4LjA5YTggOCAwIDAgMSA4LjM0IDBsMzIgMTguMDlhMTIgMTIgMCAwIDAgMTIuNDIgMGwzMi0xOC4wOWE4IDggMCAwIDEgOC4zNCAwbDMyLTE4LjA5YTEyIDEyIDAgMCAwIDAtMTYuOTh6TTIwOCAyNEg0OGExNiAxNiAwIDAgMCAwIDMyaDE2MGExNiAxNiAwIDAgMCAwLTMyem0xMC4zNCA0MC4zNEExMiAxMiAwIDAgMCAyMDggNjRoLTQyYTggOCAwIDAgMC04IDh2MTZhOCA4IDAgMCAwIDggOGg0MmExMiAxMiAwIDAgMCAxMC4zNC02LjM0bDE2LTMxYTggOCAwIDAgMC0uMDItNy4zMnptLTg2LjY4IDBsMTYgMzFhOCA4IDAgMCAwIDEwLjM0IDYuMzRoNDJhOCA4IDAgMCAwIDgtOHYtMTZhOCA4IDAgMCAwLTgtOGgtNDJhMTIgMTIgMCAwIDAtMTAuMzQgNi4zNGwtMTYgMzFhOCA4IDAgMCAwIC4wMiA3LjMyeiIvPjwvcGF0aD48L3N2ZyA+)](https://www.uacj.mx)\n",
        "[![Course](https://img.shields.io/badge/Course-Math%20%26%20Statistics%20for%20AI-005A9C?style=for-the-badge&logo=book)](https://www.uacj.mx)\n",
        "[![Activity](https://img.shields.io/badge/Week%2006-Matrix%20Factorization-FDB813?style=for-the-badge&logo=googlecolab)](https://colab.research.google.com)\n",
        "\n",
        "</center>\n",
        "\n",
        "---\n",
        "\n",
        "## 🧮 **Matemáticas y Estadística para Inteligencia Artificial**\n",
        "\n",
        "### 👨‍🏫 **Profesora**\n",
        "- **Profesora Titular:** Helen Clara Peñate Rodríguez\n",
        "\n",
        "---\n",
        "\n",
        "## 📝 **Tarea: Factorización de Matrices**\n",
        "\n",
        "### 📌 **Detalles de la Tarea**\n",
        "- **Semana:** 06\n",
        "- **Título:** Factorización de Matrices y Diagonal Dominante\n",
        "- **Fecha de entrega:** 📅 Septiembre 21, 2025\n",
        "\n",
        "---\n",
        "\n",
        "## 👨‍💻 **Estudiante**\n",
        "\n",
        "<div style=\"text-align: center;\">\n",
        "\n",
        "### **Javier Augusto Rebull Saucedo**\n",
        "<img src=\"https://iili.io/KuvsGKx.png\" alt=\"Javier Augusto Rebull Saucedo\" width=\"150\">\n",
        "\n",
        "**Matrícula:** `263483`  \n",
        "🎓 Estudiante de la Maestría en Inteligencia Artificial y Analítica de Datos (MIAAD)\n",
        "\n",
        "</div>\n",
        "\n",
        "---\n",
        "\n",
        "## 🎯 **Introducción y Objetivos de la Tarea**\n",
        "\n",
        "Este notebook presenta la implementación práctica de la tarea para la **semana 6** del curso de **Matemáticas y Estadística para Inteligencia Artificial**. El objetivo principal es aplicar diversas técnicas de factorización a una matriz específica, prestando especial atención a la importancia de la **diagonal dominante** para garantizar la estabilidad numérica y la convergencia de métodos iterativos.\n",
        "\n",
        "A lo largo de este documento, se realizarán los siguientes pasos clave:\n",
        "1.  **Transformar** una matriz original a una forma con **diagonal dominante** para mejorar sus propiedades numéricas.\n",
        "2.  Aplicar la **Factorización LU**, que descompone la matriz en un producto de una matriz triangular inferior (L) y una superior (U).\n",
        "3.  Calcular la **Factorización QR**, que descompone la matriz en un producto de una matriz ortogonal (Q) y una triangular superior (R).\n",
        "4.  Realizar la **Descomposición en Valores Singulares (SVD)**, una de las factorizaciones más importantes en el análisis de datos y el álgebra lineal.\n",
        "5.  **Comparar** los resultados obtenidos manualmente y mediante programación con los generados por herramientas como GeoGebra para verificar la consistencia y comprender las diferencias.\n",
        "\n",
        "---\n",
        "\n",
        "## 🛠️ **Tecnologías y Bibliotecas Propuestas**\n",
        "\n",
        "| Biblioteca | Descripción | Logo |\n",
        "|------------|-------------|------|\n",
        "| **Python** | Lenguaje de programación principal. | ![Python](https://img.shields.io/badge/Python-3776AB?style=flat&logo=python&logoColor=white) |\n",
        "| **NumPy** | Biblioteca fundamental para la computación numérica. | ![NumPy](https://img.shields.io/badge/NumPy-013243?style=flat&logo=numpy&logoColor=white) |\n",
        "| **SciPy** | Ecosistema para matemáticas, ciencia e ingeniería. | ![SciPy](https://img.shields.io/badge/SciPy-8CAAE6?style=flat&logo=scipy&logoColor=white) |\n",
        "| **Matplotlib**| Para la creación de visualizaciones y gráficos. | ![Matplotlib](https://img.shields.io/badge/Matplotlib-3776AB?style=flat&logo=python&logoColor=white) |\n",
        "\n",
        "---\n",
        "\n",
        "## 🔑 **Conceptos Clave a Explorar**\n",
        "\n",
        "| Concepto | Descripción |\n",
        "|----------|-------------|\n",
        "| **📐 Diagonal Dominante** | Propiedad de una matriz que garantiza la convergencia de métodos iterativos y la existencia de factorización LU sin pivoteo. |\n",
        "| **LU** | Descomposición en matrices triangulares, útil para resolver sistemas de ecuaciones lineales de forma eficiente. |\n",
        "| **QR** | Descomposición basada en la ortogonalización, fundamental en algoritmos de mínimos cuadrados y cálculo de valores propios. |\n",
        "| **SVD** | Descomposición en Valores Singulares, clave para el análisis de componentes principales (PCA), compresión de datos y cálculo de pseudoinversas. |\n",
        "\n",
        "---\n",
        "\n",
        "<center>\n",
        "\n",
        "## **¡Comencemos a factorizar! 🚀**\n",
        "\n",
        "### **Maestría en Inteligencia Artificial y Analítica de Datos - UACJ 2025**\n",
        "\n",
        "---\n",
        "\n",
        "[![Made with](https://img.shields.io/badge/Made%20with-🐍-green?style=flat-square)](https://python.org)\n",
        "[![NumPy](https://img.shields.io/badge/NumPy-1.x-blue?style=flat-square&logo=numpy)](https://numpy.org)\n",
        "\n",
        "</center>"
      ],
      "metadata": {
        "id": "d0L5vTptiqJD"
      }
    },
    {
      "cell_type": "markdown",
      "source": [
        "# Seccion 06 - Para obtener las factorizaciones utilice Google Colab\n",
        "\n",
        "Para obtener las factorizaciones utilice algún asistente matemático o código (puede estar generado por usted)."
      ],
      "metadata": {
        "id": "M6mNo6w_jLQ8"
      }
    },
    {
      "cell_type": "markdown",
      "source": [
        "###  📚 1. Librerías"
      ],
      "metadata": {
        "id": "BP4Nd9LqkCP2"
      }
    },
    {
      "cell_type": "code",
      "execution_count": 1,
      "metadata": {
        "id": "i-dXlHe1iGAp"
      },
      "outputs": [],
      "source": [
        "# =============================================================================\n",
        "# IMPORTS Y CONFIGURACIÓN PARA CÁLCULOS NUMÉRICOS Y VISUALIZACIÓN DE MATRICES\n",
        "# =============================================================================\n",
        "\n",
        "# NumPy: Soporte para cálculos numéricos, arrays y operaciones de álgebra lineal.\n",
        "import numpy as np\n",
        "\n",
        "# SciPy.linalg: Funciones avanzadas de álgebra lineal, como la descomposición LU.\n",
        "from scipy.linalg import lu\n",
        "\n",
        "# SymPy: Matemáticas simbólicas y visualización elegante de matrices.\n",
        "from sympy import Matrix, init_printing\n",
        "\n",
        "# IPython.display: Muestra matrices y objetos en entornos Jupyter de forma interactiva.\n",
        "from IPython.display import display\n",
        "\n",
        "# NumPy.linalg: Funciones de álgebra lineal como determinante (det) y norma.\n",
        "from numpy.linalg import det, norm\n",
        "\n",
        "from scipy.linalg import svd\n",
        "\n",
        "# =============================================================================\n",
        "# CONFIGURACIÓN DE VISUALIZACIÓN\n",
        "# =============================================================================\n",
        "\n",
        "# Activa el renderizado LaTeX para una presentación elegante de matrices en SymPy.\n",
        "init_printing(use_latex='mathjax')"
      ]
    },
    {
      "cell_type": "markdown",
      "source": [
        "### Matriz de Entrada"
      ],
      "metadata": {
        "id": "eqr_VknDlgxR"
      }
    },
    {
      "cell_type": "code",
      "source": [
        "# 1. Definir la Matriz A.\n",
        "# La creamos como una matriz de NumPy para poder hacer cálculos con ella.\n",
        "A = np.array([[1, -1, 3],\n",
        "                 [6, 3, -1],\n",
        "                 [-2, 4.5, 1]], dtype=float)\n",
        "\n",
        "print(\"--- Matriz de Entrada A ---\")\n",
        "# Para mostrarla, la convertimos a un objeto de SymPy y usamos display().\n",
        "display(Matrix(A))"
      ],
      "metadata": {
        "colab": {
          "base_uri": "https://localhost:8080/",
          "height": 95
        },
        "id": "4f5ZayEMlf-P",
        "outputId": "3e180128-510b-494c-c160-999e76f275f8"
      },
      "execution_count": 2,
      "outputs": [
        {
          "output_type": "stream",
          "name": "stdout",
          "text": [
            "--- Matriz de Entrada A ---\n"
          ]
        },
        {
          "output_type": "display_data",
          "data": {
            "text/plain": [
              "⎡1.0   -1.0  3.0 ⎤\n",
              "⎢                ⎥\n",
              "⎢6.0   3.0   -1.0⎥\n",
              "⎢                ⎥\n",
              "⎣-2.0  4.5   1.0 ⎦"
            ],
            "text/latex": "$\\displaystyle \\left[\\begin{matrix}1.0 & -1.0 & 3.0\\\\6.0 & 3.0 & -1.0\\\\-2.0 & 4.5 & 1.0\\end{matrix}\\right]$"
          },
          "metadata": {}
        }
      ]
    },
    {
      "cell_type": "markdown",
      "source": [
        "### 3. Propiedades y Análisis de Diagonal Dominante\n",
        "\n",
        "Antes de aplicar más factorizaciones, es útil analizar algunas propiedades clave de nuestra matriz A. La más importante para la estabilidad numérica es la diagonal dominante.\n",
        "\n",
        "Paso 3.1: Calcular Propiedades de la Matriz A\n",
        "Usaremos funciones de NumPy para obtener rápidamente el determinante, la traza y la norma de Frobenius.\n",
        "Determinante: Un valor distinto de cero indica que la matriz es invertible.\n",
        "Traza: Es la suma de los elementos de la diagonal.\n",
        "Norma de Frobenius: Mide la \"magnitud\" de la matriz."
      ],
      "metadata": {
        "id": "40NiJX2glGux"
      }
    },
    {
      "cell_type": "code",
      "source": [
        "# Calculamos las propiedades de la matriz A (definida en la celda anterior).\n",
        "determinante = det(A)\n",
        "traza = np.trace(A)\n",
        "norma_frobenius = norm(A, 'fro')\n",
        "\n",
        "print(\"--- Propiedades de la Matriz A ---\")\n",
        "print(f\"🔹 Determinante: {determinante:.2f}\")\n",
        "print(f\"🔹 Traza: {traza:.2f}\")\n",
        "print(f\"🔹 Norma de Frobenius: {norma_frobenius:.2f}\")"
      ],
      "metadata": {
        "colab": {
          "base_uri": "https://localhost:8080/"
        },
        "id": "Y9RQ9JCxlQs-",
        "outputId": "f478c0a3-0a6a-4a68-95cb-f49e38bc0a9f"
      },
      "execution_count": 3,
      "outputs": [
        {
          "output_type": "stream",
          "name": "stdout",
          "text": [
            "--- Propiedades de la Matriz A ---\n",
            "🔹 Determinante: 110.50\n",
            "🔹 Traza: 5.00\n",
            "🔹 Norma de Frobenius: 9.07\n"
          ]
        }
      ]
    },
    {
      "cell_type": "markdown",
      "source": [
        "### 🔍 Sección 01: Análisis y Transformación a Diagonal Dominante\n",
        "\n",
        "En esta sección, se analiza la matriz original A para determinar si cumple con la propiedad de diagonal dominante, una característica crucial para garantizar la estabilidad numérica y la convergencia de ciertos métodos de solución. Tras verificar que no cumple con este criterio, se aplica una permutación de filas estratégica para transformarla en una nueva matriz B que sí posee esta importante propiedad."
      ],
      "metadata": {
        "id": "CVmBlweQoKMc"
      }
    },
    {
      "cell_type": "code",
      "source": [
        "# Matriz B, creada al permutar las filas de A.\n",
        "# El orden [1, 2, 0] significa: tomar la fila 1, luego la 2 y finalmente la 0 de A.\n",
        "B = A[[1, 2, 0], :]\n",
        "\n",
        "# --- 2. FUNCIÓN DE VERIFICACIÓN ---\n",
        "\n",
        "def verificar_dominancia_diagonal(matriz, nombre_matriz='M'):\n",
        "    \"\"\"\n",
        "    Verifica si una matriz es de diagonal dominante e imprime el análisis de cada fila.\n",
        "    \"\"\"\n",
        "    print(f\"--- Análisis de Diagonal Dominante para la Matriz {nombre_matriz} ---\")\n",
        "    es_dominante = True\n",
        "\n",
        "    # Itera sobre cada fila de la matriz.\n",
        "    for i in range(len(matriz)):\n",
        "        # Valor absoluto del elemento en la diagonal.\n",
        "        diagonal = abs(matriz[i, i])\n",
        "\n",
        "        # Suma de los valores absolutos de los otros elementos de la fila.\n",
        "        suma_otros = sum(abs(matriz[i, j]) for j in range(len(matriz)) if i != j)\n",
        "\n",
        "        # Compara e imprime el resultado para la fila actual.\n",
        "        resultado = \"Cumple\" if diagonal > suma_otros else \"No Cumple\"\n",
        "        print(f\"Fila {i+1}: |{matriz[i, i]}| > {suma_otros:.2f}  ->  {diagonal > suma_otros} ({resultado})\")\n",
        "\n",
        "        # Si una fila no cumple, la matriz entera no es dominante.\n",
        "        if not (diagonal > suma_otros):\n",
        "            es_dominante = False\n",
        "\n",
        "    # Imprime la conclusión final.\n",
        "    if es_dominante:\n",
        "        print(f\"\\n✅ Conclusión: La matriz {nombre_matriz} SÍ es de diagonal dominante.\")\n",
        "    else:\n",
        "        print(f\"\\n❌ Conclusión: La matriz {nombre_matriz} NO es de diagonal dominante.\")\n",
        "\n",
        "    return es_dominante\n",
        "\n",
        "\n",
        "# --- 3. EJECUCIÓN Y VERIFICACIÓN ---\n",
        "\n",
        "# Analizar la Matriz A original\n",
        "print(\"Matriz A Original:\")\n",
        "print(A)\n",
        "print(\"-\" * 50)\n",
        "verificar_dominancia_diagonal(A, 'A')\n",
        "\n",
        "print(\"\\n\" + \"=\" * 50 + \"\\n\")\n",
        "\n",
        "# Analizar la Matriz B transformada\n",
        "print(\"Matriz B Transformada:\")\n",
        "print(B)\n",
        "print(\"-\" * 50)\n",
        "verificar_dominancia_diagonal(B, 'B')"
      ],
      "metadata": {
        "colab": {
          "base_uri": "https://localhost:8080/"
        },
        "id": "5swCpnvvn634",
        "outputId": "7240d8cb-86ad-463a-a451-b2520acb65c1"
      },
      "execution_count": 4,
      "outputs": [
        {
          "output_type": "stream",
          "name": "stdout",
          "text": [
            "Matriz A Original:\n",
            "[[ 1.  -1.   3. ]\n",
            " [ 6.   3.  -1. ]\n",
            " [-2.   4.5  1. ]]\n",
            "--------------------------------------------------\n",
            "--- Análisis de Diagonal Dominante para la Matriz A ---\n",
            "Fila 1: |1.0| > 4.00  ->  False (No Cumple)\n",
            "Fila 2: |3.0| > 7.00  ->  False (No Cumple)\n",
            "Fila 3: |1.0| > 6.50  ->  False (No Cumple)\n",
            "\n",
            "❌ Conclusión: La matriz A NO es de diagonal dominante.\n",
            "\n",
            "==================================================\n",
            "\n",
            "Matriz B Transformada:\n",
            "[[ 6.   3.  -1. ]\n",
            " [-2.   4.5  1. ]\n",
            " [ 1.  -1.   3. ]]\n",
            "--------------------------------------------------\n",
            "--- Análisis de Diagonal Dominante para la Matriz B ---\n",
            "Fila 1: |6.0| > 4.00  ->  True (Cumple)\n",
            "Fila 2: |4.5| > 3.00  ->  True (Cumple)\n",
            "Fila 3: |3.0| > 2.00  ->  True (Cumple)\n",
            "\n",
            "✅ Conclusión: La matriz B SÍ es de diagonal dominante.\n"
          ]
        },
        {
          "output_type": "execute_result",
          "data": {
            "text/plain": [
              "True"
            ]
          },
          "metadata": {},
          "execution_count": 4
        }
      ]
    },
    {
      "cell_type": "markdown",
      "source": [
        "### ⚙️ Sección 02: Factorización LU de la Matriz B\n",
        "\n",
        "Ahora que tenemos la matriz B con diagonal dominante, podemos proceder a la Factorización LU. Esta propiedad nos asegura que el proceso se puede realizar de forma estable y sin necesidad de intercambiar filas (pivoteo)."
      ],
      "metadata": {
        "id": "CNGfGUYvkHqL"
      }
    },
    {
      "cell_type": "code",
      "source": [
        "print(\"--- Matriz de Entrada B ---\")\n",
        "display(Matrix(B))\n",
        "\n",
        "def lu_decomposition_paso_a_paso(matriz):\n",
        "    \"\"\"\n",
        "    Realiza la factorización LU mediante eliminación Gaussiana\n",
        "    y muestra los pasos intermedios.\n",
        "    \"\"\"\n",
        "    n = matriz.shape[0]\n",
        "    U = matriz.copy()\n",
        "    L = np.eye(n, dtype=float)\n",
        "\n",
        "    # --- Proceso de Eliminación ---\n",
        "    # Iteramos por cada columna para crear los ceros debajo de la diagonal.\n",
        "    for k in range(n):\n",
        "        print(f\"\\n--- PASO {k+1}: Eliminar elementos bajo la columna {k+1} ---\")\n",
        "        # Iteramos por cada fila debajo de la diagonal de la columna k.\n",
        "        for i in range(k + 1, n):\n",
        "            # 1. Calcular el multiplicador\n",
        "            multiplicador = U[i, k] / U[k, k]\n",
        "            L[i, k] = multiplicador\n",
        "            print(f\"Multiplicador l_({i+1},{k+1}) = {multiplicador:.4f}\")\n",
        "\n",
        "            # 2. Aplicar la operación a la fila para crear el cero.\n",
        "            U[i, :] = U[i, :] - multiplicador * U[k, :]\n",
        "\n",
        "    print(\"\\n--- Proceso de Eliminación Finalizado ---\")\n",
        "    print(\"Matriz U intermedia final:\")\n",
        "    display(Matrix(U))\n",
        "\n",
        "    return L, U\n",
        "\n",
        "# Ejecutamos la función\n",
        "L_manual, U_manual = lu_decomposition_paso_a_paso(B)\n",
        "\n",
        "# --- MATRICES L Y U FINALES ---\n",
        "print(\"\\n\\n--- 📝 Matrices L y U Finales ---\")\n",
        "print(\"\\nMatriz L (Inferior):\")\n",
        "display(Matrix(L_manual))\n",
        "\n",
        "print(\"\\nMatriz U (Superior):\")\n",
        "display(Matrix(U_manual))\n",
        "\n",
        "\n",
        "# --- VERIFICACIÓN ---\n",
        "print(\"\\n\\n--- ✅ Verificación ---\")\n",
        "print(\"Multiplicando L x U para reconstruir B:\")\n",
        "B_reconstruida = L_manual @ U_manual\n",
        "display(Matrix(B_reconstruida))\n",
        "\n",
        "# Comprobamos si la matriz reconstruida es igual a la original B.\n",
        "es_correcta = np.allclose(B, B_reconstruida)\n",
        "print(f\"\\n¿La reconstrucción es correcta? {es_correcta} ✨\")"
      ],
      "metadata": {
        "colab": {
          "base_uri": "https://localhost:8080/",
          "height": 764
        },
        "id": "BZswbVoW6Uz-",
        "outputId": "2d443692-d85f-475e-9989-b010aaa53d63"
      },
      "execution_count": 5,
      "outputs": [
        {
          "output_type": "stream",
          "name": "stdout",
          "text": [
            "--- Matriz de Entrada B ---\n"
          ]
        },
        {
          "output_type": "display_data",
          "data": {
            "text/plain": [
              "⎡6.0   3.0   -1.0⎤\n",
              "⎢                ⎥\n",
              "⎢-2.0  4.5   1.0 ⎥\n",
              "⎢                ⎥\n",
              "⎣1.0   -1.0  3.0 ⎦"
            ],
            "text/latex": "$\\displaystyle \\left[\\begin{matrix}6.0 & 3.0 & -1.0\\\\-2.0 & 4.5 & 1.0\\\\1.0 & -1.0 & 3.0\\end{matrix}\\right]$"
          },
          "metadata": {}
        },
        {
          "output_type": "stream",
          "name": "stdout",
          "text": [
            "\n",
            "--- PASO 1: Eliminar elementos bajo la columna 1 ---\n",
            "Multiplicador l_(2,1) = -0.3333\n",
            "Multiplicador l_(3,1) = 0.1667\n",
            "\n",
            "--- PASO 2: Eliminar elementos bajo la columna 2 ---\n",
            "Multiplicador l_(3,2) = -0.2727\n",
            "\n",
            "--- PASO 3: Eliminar elementos bajo la columna 3 ---\n",
            "\n",
            "--- Proceso de Eliminación Finalizado ---\n",
            "Matriz U intermedia final:\n"
          ]
        },
        {
          "output_type": "display_data",
          "data": {
            "text/plain": [
              "⎡6.0  3.0        -1.0       ⎤\n",
              "⎢                           ⎥\n",
              "⎢0.0  5.5  0.666666666666667⎥\n",
              "⎢                           ⎥\n",
              "⎣0.0  0.0  3.34848484848485 ⎦"
            ],
            "text/latex": "$\\displaystyle \\left[\\begin{matrix}6.0 & 3.0 & -1.0\\\\0.0 & 5.5 & 0.666666666666667\\\\0.0 & 0.0 & 3.34848484848485\\end{matrix}\\right]$"
          },
          "metadata": {}
        },
        {
          "output_type": "stream",
          "name": "stdout",
          "text": [
            "\n",
            "\n",
            "--- 📝 Matrices L y U Finales ---\n",
            "\n",
            "Matriz L (Inferior):\n"
          ]
        },
        {
          "output_type": "display_data",
          "data": {
            "text/plain": [
              "⎡       1.0                 0.0          0.0⎤\n",
              "⎢                                           ⎥\n",
              "⎢-0.333333333333333         1.0          0.0⎥\n",
              "⎢                                           ⎥\n",
              "⎣0.166666666666667   -0.272727272727273  1.0⎦"
            ],
            "text/latex": "$\\displaystyle \\left[\\begin{matrix}1.0 & 0.0 & 0.0\\\\-0.333333333333333 & 1.0 & 0.0\\\\0.166666666666667 & -0.272727272727273 & 1.0\\end{matrix}\\right]$"
          },
          "metadata": {}
        },
        {
          "output_type": "stream",
          "name": "stdout",
          "text": [
            "\n",
            "Matriz U (Superior):\n"
          ]
        },
        {
          "output_type": "display_data",
          "data": {
            "text/plain": [
              "⎡6.0  3.0        -1.0       ⎤\n",
              "⎢                           ⎥\n",
              "⎢0.0  5.5  0.666666666666667⎥\n",
              "⎢                           ⎥\n",
              "⎣0.0  0.0  3.34848484848485 ⎦"
            ],
            "text/latex": "$\\displaystyle \\left[\\begin{matrix}6.0 & 3.0 & -1.0\\\\0.0 & 5.5 & 0.666666666666667\\\\0.0 & 0.0 & 3.34848484848485\\end{matrix}\\right]$"
          },
          "metadata": {}
        },
        {
          "output_type": "stream",
          "name": "stdout",
          "text": [
            "\n",
            "\n",
            "--- ✅ Verificación ---\n",
            "Multiplicando L x U para reconstruir B:\n"
          ]
        },
        {
          "output_type": "display_data",
          "data": {
            "text/plain": [
              "⎡6.0   3.0   -1.0⎤\n",
              "⎢                ⎥\n",
              "⎢-2.0  4.5   1.0 ⎥\n",
              "⎢                ⎥\n",
              "⎣1.0   -1.0  3.0 ⎦"
            ],
            "text/latex": "$\\displaystyle \\left[\\begin{matrix}6.0 & 3.0 & -1.0\\\\-2.0 & 4.5 & 1.0\\\\1.0 & -1.0 & 3.0\\end{matrix}\\right]$"
          },
          "metadata": {}
        },
        {
          "output_type": "stream",
          "name": "stdout",
          "text": [
            "\n",
            "¿La reconstrucción es correcta? True ✨\n"
          ]
        }
      ]
    },
    {
      "cell_type": "markdown",
      "source": [
        "###⚙️ Sección 03: Factorización QR de la Matriz B\n",
        "\n",
        "La factorización QR descompone una matriz en el producto de una matriz ortogonal (Q) y una matriz triangular superior (R). Usaremos el método de Gram-Schmidt para ortogonalizar los vectores columna de la matriz B.\n",
        "\n",
        "Código de Factorización QR (Método Gram-Schmidt)"
      ],
      "metadata": {
        "id": "jBemvceQ8oQt"
      }
    },
    {
      "cell_type": "code",
      "source": [
        "def qr_gram_schmidt(matriz):\n",
        "    \"\"\"\n",
        "    Realiza la factorización QR mediante el proceso de Gram-Schmidt\n",
        "    y muestra los pasos intermedios.\n",
        "    \"\"\"\n",
        "    m, n = matriz.shape\n",
        "    Q = np.zeros((m, n))\n",
        "    R = np.zeros((n, n))\n",
        "\n",
        "    print(\"--- Proceso de Ortogonalización de Gram-Schmidt ---\")\n",
        "\n",
        "    for j in range(n):\n",
        "        v = matriz[:, j]  # Vector columna actual\n",
        "\n",
        "        print(f\"\\n--- PASO {j+1}: Procesando v_{j+1} ---\")\n",
        "\n",
        "        # Proceso de resta de proyecciones\n",
        "        for i in range(j):\n",
        "            # Proyección del vector v sobre el vector q_i ya calculado\n",
        "            R[i, j] = Q[:, i].T @ matriz[:, j]\n",
        "            v = v - R[i, j] * Q[:, i]\n",
        "\n",
        "        # Norma del vector ortogonal resultante\n",
        "        norma = np.linalg.norm(v)\n",
        "        R[j, j] = norma\n",
        "\n",
        "        # Vector ortonormal (columna de Q)\n",
        "        Q[:, j] = v / norma\n",
        "\n",
        "        print(f\"Vector ortogonal w_{j+1}: {np.round(v, 3)}\")\n",
        "        print(f\"Norma de w_{j+1}: {norma:.3f}\")\n",
        "        print(f\"Vector ortonormal q_{j+1}: {np.round(Q[:, j], 3)}\")\n",
        "\n",
        "    return Q, R\n",
        "\n",
        "# Ejecutar la función para obtener Q y R\n",
        "Q_gs, R_gs = qr_gram_schmidt(B)\n",
        "\n",
        "\n",
        "# --- MATRICES Q Y R FINALES ---\n",
        "print(\"\\n\\n--- 📝 Matrices Q y R Finales ---\")\n",
        "print(\"\\nMatriz Q (Ortogonal):\")\n",
        "display(Matrix(np.round(Q_gs, 3)))\n",
        "\n",
        "print(\"\\nMatriz R (Triangular Superior):\")\n",
        "display(Matrix(np.round(R_gs, 3)))\n",
        "\n",
        "\n",
        "# --- VERIFICACIÓN ---\n",
        "print(\"\\n\\n--- ✅ Verificación ---\")\n",
        "\n",
        "# 1. Verificar si Q es ortogonal (Q^T * Q debe ser la matriz identidad)\n",
        "print(\"\\nVerificando si Q es ortogonal (Q^T @ Q):\")\n",
        "identidad = Q_gs.T @ Q_gs\n",
        "display(Matrix(np.round(identidad, 3)))\n",
        "print(f\"¿Es Q^T @ Q la matriz identidad? {np.allclose(identidad, np.eye(3))} 👍\")\n",
        "\n",
        "# 2. Verificar la factorización (Q * R debe ser igual a B)\n",
        "print(\"\\nVerificando la reconstrucción (Q @ R):\")\n",
        "B_reconstruida = Q_gs @ R_gs\n",
        "display(Matrix(np.round(B_reconstruida, 3)))\n",
        "print(f\"¿Es Q @ R igual a B? {np.allclose(B, B_reconstruida)} ✨\")"
      ],
      "metadata": {
        "colab": {
          "base_uri": "https://localhost:8080/",
          "height": 805
        },
        "id": "-Q2mbkAU8sb7",
        "outputId": "a24997bc-e402-43a0-c354-249636ee91da"
      },
      "execution_count": 6,
      "outputs": [
        {
          "output_type": "stream",
          "name": "stdout",
          "text": [
            "--- Proceso de Ortogonalización de Gram-Schmidt ---\n",
            "\n",
            "--- PASO 1: Procesando v_1 ---\n",
            "Vector ortogonal w_1: [ 6. -2.  1.]\n",
            "Norma de w_1: 6.403\n",
            "Vector ortonormal q_1: [ 0.937 -0.312  0.156]\n",
            "\n",
            "--- PASO 2: Procesando v_2 ---\n",
            "Vector ortogonal w_2: [ 1.829  4.89  -1.195]\n",
            "Norma de w_2: 5.356\n",
            "Vector ortonormal q_2: [ 0.342  0.913 -0.223]\n",
            "\n",
            "--- PASO 3: Procesando v_3 ---\n",
            "Vector ortogonal w_3: [-0.235  0.845  3.1  ]\n",
            "Norma de w_3: 3.222\n",
            "Vector ortonormal q_3: [-0.073  0.262  0.962]\n",
            "\n",
            "\n",
            "--- 📝 Matrices Q y R Finales ---\n",
            "\n",
            "Matriz Q (Ortogonal):\n"
          ]
        },
        {
          "output_type": "display_data",
          "data": {
            "text/plain": [
              "⎡0.937   0.342   -0.073⎤\n",
              "⎢                      ⎥\n",
              "⎢-0.312  0.913   0.262 ⎥\n",
              "⎢                      ⎥\n",
              "⎣0.156   -0.223  0.962 ⎦"
            ],
            "text/latex": "$\\displaystyle \\left[\\begin{matrix}0.937 & 0.342 & -0.073\\\\-0.312 & 0.913 & 0.262\\\\0.156 & -0.223 & 0.962\\end{matrix}\\right]$"
          },
          "metadata": {}
        },
        {
          "output_type": "stream",
          "name": "stdout",
          "text": [
            "\n",
            "Matriz R (Triangular Superior):\n"
          ]
        },
        {
          "output_type": "display_data",
          "data": {
            "text/plain": [
              "⎡6.403  1.249  -0.781⎤\n",
              "⎢                    ⎥\n",
              "⎢ 0.0   5.356  -0.098⎥\n",
              "⎢                    ⎥\n",
              "⎣ 0.0    0.0   3.222 ⎦"
            ],
            "text/latex": "$\\displaystyle \\left[\\begin{matrix}6.403 & 1.249 & -0.781\\\\0.0 & 5.356 & -0.098\\\\0.0 & 0.0 & 3.222\\end{matrix}\\right]$"
          },
          "metadata": {}
        },
        {
          "output_type": "stream",
          "name": "stdout",
          "text": [
            "\n",
            "\n",
            "--- ✅ Verificación ---\n",
            "\n",
            "Verificando si Q es ortogonal (Q^T @ Q):\n"
          ]
        },
        {
          "output_type": "display_data",
          "data": {
            "text/plain": [
              "⎡1.0  0.0  0.0⎤\n",
              "⎢             ⎥\n",
              "⎢0.0  1.0  0.0⎥\n",
              "⎢             ⎥\n",
              "⎣0.0  0.0  1.0⎦"
            ],
            "text/latex": "$\\displaystyle \\left[\\begin{matrix}1.0 & 0.0 & 0.0\\\\0.0 & 1.0 & 0.0\\\\0.0 & 0.0 & 1.0\\end{matrix}\\right]$"
          },
          "metadata": {}
        },
        {
          "output_type": "stream",
          "name": "stdout",
          "text": [
            "¿Es Q^T @ Q la matriz identidad? True 👍\n",
            "\n",
            "Verificando la reconstrucción (Q @ R):\n"
          ]
        },
        {
          "output_type": "display_data",
          "data": {
            "text/plain": [
              "⎡6.0   3.0   -1.0⎤\n",
              "⎢                ⎥\n",
              "⎢-2.0  4.5   1.0 ⎥\n",
              "⎢                ⎥\n",
              "⎣1.0   -1.0  3.0 ⎦"
            ],
            "text/latex": "$\\displaystyle \\left[\\begin{matrix}6.0 & 3.0 & -1.0\\\\-2.0 & 4.5 & 1.0\\\\1.0 & -1.0 & 3.0\\end{matrix}\\right]$"
          },
          "metadata": {}
        },
        {
          "output_type": "stream",
          "name": "stdout",
          "text": [
            "¿Es Q @ R igual a B? True ✨\n"
          ]
        }
      ]
    },
    {
      "cell_type": "markdown",
      "source": [
        "### ⚙️ Sección 04: Descomposición en Valores Singulares (SVD) de \\( \\mathbf{B} \\)\n",
        "\n",
        "La **Descomposición en Valores Singulares (SVD)** es una herramienta fundamental en álgebra lineal que permite descomponer una matriz \\( \\mathbf{B} \\) como el producto de tres matrices:\n",
        "\n",
        "$$\n",
        "\\mathbf{B} = \\mathbf{U}\\,\\boldsymbol{\\Sigma}\\,\\mathbf{V}^{\\mathsf{T}}\n",
        "$$\n",
        "\n",
        "**Donde:**\n",
        "\n",
        "- $\\mathbf{U}$: matriz **ortogonal** que contiene los *vectores singulares izquierdos*.\n",
        "- $\\boldsymbol{\\Sigma}$: matriz **diagonal** con los **valores singulares** (no negativos), ordenados de mayor a menor.\n",
        "- $\\mathbf{V}$: matriz **ortogonal** que contiene los *vectores singulares derechos*.\n",
        "\n",
        "> Esta factorización se utiliza ampliamente en **compresión de datos**, **análisis de componentes principales (PCA)** y **resolución de sistemas lineales**.\n"
      ],
      "metadata": {
        "id": "ToO9dN4z93GB"
      }
    },
    {
      "cell_type": "code",
      "source": [
        "# --- PASO 1: CALCULAR B^T @ B ---\n",
        "print(\"--- Paso 1: Calcular B^T @ B ---\")\n",
        "BtB = B.T @ B\n",
        "display(Matrix(np.round(BtB, 3)))\n",
        "\n",
        "\n",
        "# --- PASO 2 y 3: VALORES PROPIOS Y SINGULARES ---\n",
        "print(\"\\n--- Paso 2 y 3: Obtener Valores Propios y Singulares ---\")\n",
        "# Calculamos los valores propios de B^T @ B\n",
        "valores_propios = np.linalg.eigvals(BtB)\n",
        "\n",
        "# Los valores singulares son la raíz cuadrada de los valores propios\n",
        "valores_singulares = np.sqrt(valores_propios)\n",
        "\n",
        "# Ordenamos de mayor a menor para consistencia\n",
        "valores_singulares = np.sort(valores_singulares)[::-1]\n",
        "\n",
        "print(f\"Valores Propios (λ) de B^T @ B: {np.round(np.sort(valores_propios)[::-1], 3)}\")\n",
        "print(f\"Valores Singulares (σ = sqrt(λ)): {np.round(valores_singulares, 3)}\")\n",
        "\n",
        "\n",
        "# --- PASO 4: OBTENER U, Σ y V CON SCIPY ---\n",
        "# Usamos la función svd() que es numéricamente estable y directa.\n",
        "# full_matrices=False hace que U y Vh tengan dimensiones compatibles.\n",
        "U, s, Vh = svd(B, full_matrices=False)\n",
        "\n",
        "# 's' es un vector, lo convertimos a la matriz diagonal Σ\n",
        "Sigma = np.diag(s)\n",
        "\n",
        "print(\"\\n\\n--- 📝 Resultado Final SVD ---\")\n",
        "print(\"\\nMatriz U:\")\n",
        "display(Matrix(np.round(U, 3)))\n",
        "\n",
        "print(\"\\nMatriz Σ (Sigma):\")\n",
        "display(Matrix(np.round(Sigma, 3)))\n",
        "\n",
        "# La función devuelve V^T (transpuesta), por lo que la mostramos tal cual.\n",
        "print(\"\\nMatriz V^T (Vh):\")\n",
        "display(Matrix(np.round(Vh, 3)))\n",
        "\n",
        "\n",
        "# --- INTERPRETACIÓN ---\n",
        "print(\"\\n\\n--- 📊 Interpretación ---\")\n",
        "# El número de condición mide la sensibilidad de la matriz.\n",
        "# Un número bajo es bueno.\n",
        "numero_condicion = s[0] / s[-1]\n",
        "print(f\"🔹 Número de Condición (σ_max / σ_min): {numero_condicion:.2f}\")\n",
        "\n",
        "# El rango es el número de valores singulares no nulos.\n",
        "rango = np.sum(s > 1e-10) # Usamos una tolerancia pequeña\n",
        "print(f\"🔹 Rango de la Matriz: {rango}\")\n",
        "\n",
        "\n",
        "# --- VERIFICACIÓN ---\n",
        "print(\"\\n\\n--- ✅ Verificación ---\")\n",
        "print(\"Reconstruyendo B a partir de U @ Σ @ V^T:\")\n",
        "B_reconstruida = U @ Sigma @ Vh\n",
        "display(Matrix(np.round(B_reconstruida, 3)))\n",
        "\n",
        "es_correcta = np.allclose(B, B_reconstruida)\n",
        "print(f\"\\n¿La reconstrucción es correcta? {es_correcta} ✨\")"
      ],
      "metadata": {
        "colab": {
          "base_uri": "https://localhost:8080/",
          "height": 747
        },
        "id": "cuc56K30As7_",
        "outputId": "e1775c7b-c3fc-434e-d91b-baff707be357"
      },
      "execution_count": 7,
      "outputs": [
        {
          "output_type": "stream",
          "name": "stdout",
          "text": [
            "--- Paso 1: Calcular B^T @ B ---\n"
          ]
        },
        {
          "output_type": "display_data",
          "data": {
            "text/plain": [
              "⎡41.0   8.0   -5.0⎤\n",
              "⎢                 ⎥\n",
              "⎢8.0   30.25  -1.5⎥\n",
              "⎢                 ⎥\n",
              "⎣-5.0  -1.5   11.0⎦"
            ],
            "text/latex": "$\\displaystyle \\left[\\begin{matrix}41.0 & 8.0 & -5.0\\\\8.0 & 30.25 & -1.5\\\\-5.0 & -1.5 & 11.0\\end{matrix}\\right]$"
          },
          "metadata": {}
        },
        {
          "output_type": "stream",
          "name": "stdout",
          "text": [
            "\n",
            "--- Paso 2 y 3: Obtener Valores Propios y Singulares ---\n",
            "Valores Propios (λ) de B^T @ B: [46.012 26.051 10.186]\n",
            "Valores Singulares (σ = sqrt(λ)): [6.783 5.104 3.192]\n",
            "\n",
            "\n",
            "--- 📝 Resultado Final SVD ---\n",
            "\n",
            "Matriz U:\n"
          ]
        },
        {
          "output_type": "display_data",
          "data": {
            "text/plain": [
              "⎡ -1.0   0.024   -0.003⎤\n",
              "⎢                      ⎥\n",
              "⎢-0.024  -0.974  0.226 ⎥\n",
              "⎢                      ⎥\n",
              "⎣0.002   0.226   0.974 ⎦"
            ],
            "text/latex": "$\\displaystyle \\left[\\begin{matrix}-1.0 & 0.024 & -0.003\\\\-0.024 & -0.974 & 0.226\\\\0.002 & 0.226 & 0.974\\end{matrix}\\right]$"
          },
          "metadata": {}
        },
        {
          "output_type": "stream",
          "name": "stdout",
          "text": [
            "\n",
            "Matriz Σ (Sigma):\n"
          ]
        },
        {
          "output_type": "display_data",
          "data": {
            "text/plain": [
              "⎡6.783   0.0    0.0 ⎤\n",
              "⎢                   ⎥\n",
              "⎢ 0.0   5.104   0.0 ⎥\n",
              "⎢                   ⎥\n",
              "⎣ 0.0    0.0   3.192⎦"
            ],
            "text/latex": "$\\displaystyle \\left[\\begin{matrix}6.783 & 0.0 & 0.0\\\\0.0 & 5.104 & 0.0\\\\0.0 & 0.0 & 3.192\\end{matrix}\\right]$"
          },
          "metadata": {}
        },
        {
          "output_type": "stream",
          "name": "stdout",
          "text": [
            "\n",
            "Matriz V^T (Vh):\n"
          ]
        },
        {
          "output_type": "display_data",
          "data": {
            "text/plain": [
              "⎡-0.877  -0.459  0.145 ⎤\n",
              "⎢                      ⎥\n",
              "⎢0.455   -0.889  -0.062⎥\n",
              "⎢                      ⎥\n",
              "⎣0.157   0.011   0.987 ⎦"
            ],
            "text/latex": "$\\displaystyle \\left[\\begin{matrix}-0.877 & -0.459 & 0.145\\\\0.455 & -0.889 & -0.062\\\\0.157 & 0.011 & 0.987\\end{matrix}\\right]$"
          },
          "metadata": {}
        },
        {
          "output_type": "stream",
          "name": "stdout",
          "text": [
            "\n",
            "\n",
            "--- 📊 Interpretación ---\n",
            "🔹 Número de Condición (σ_max / σ_min): 2.13\n",
            "🔹 Rango de la Matriz: 3\n",
            "\n",
            "\n",
            "--- ✅ Verificación ---\n",
            "Reconstruyendo B a partir de U @ Σ @ V^T:\n"
          ]
        },
        {
          "output_type": "display_data",
          "data": {
            "text/plain": [
              "⎡6.0   3.0   -1.0⎤\n",
              "⎢                ⎥\n",
              "⎢-2.0  4.5   1.0 ⎥\n",
              "⎢                ⎥\n",
              "⎣1.0   -1.0  3.0 ⎦"
            ],
            "text/latex": "$\\displaystyle \\left[\\begin{matrix}6.0 & 3.0 & -1.0\\\\-2.0 & 4.5 & 1.0\\\\1.0 & -1.0 & 3.0\\end{matrix}\\right]$"
          },
          "metadata": {}
        },
        {
          "output_type": "stream",
          "name": "stdout",
          "text": [
            "\n",
            "¿La reconstrucción es correcta? True ✨\n"
          ]
        }
      ]
    }
  ]
}