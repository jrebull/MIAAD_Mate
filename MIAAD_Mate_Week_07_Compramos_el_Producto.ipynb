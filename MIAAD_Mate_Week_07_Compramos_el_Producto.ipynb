{
  "nbformat": 4,
  "nbformat_minor": 0,
  "metadata": {
    "colab": {
      "provenance": [],
      "authorship_tag": "ABX9TyOIoljQtoTIavZr0aYyq4+h",
      "include_colab_link": true
    },
    "kernelspec": {
      "name": "python3",
      "display_name": "Python 3"
    },
    "language_info": {
      "name": "python"
    }
  },
  "cells": [
    {
      "cell_type": "markdown",
      "metadata": {
        "id": "view-in-github",
        "colab_type": "text"
      },
      "source": [
        "<a href=\"https://colab.research.google.com/github/jrebull/MIAAD_Mate/blob/main/MIAAD_Mate_Week_07_Compramos_el_Producto.ipynb\" target=\"_parent\"><img src=\"https://colab.research.google.com/assets/colab-badge.svg\" alt=\"Open In Colab\"/></a>"
      ]
    },
    {
      "cell_type": "markdown",
      "source": [
        "# GitHub https://github.com/jrebull/MIAAD_Mate/blob/main/MIAAD_Mate_Week_07_Compramos_el_Producto.ipynb"
      ],
      "metadata": {
        "id": "39L-owy7LECF"
      }
    },
    {
      "cell_type": "markdown",
      "source": [
        "#Javier Rebull MIAAD"
      ],
      "metadata": {
        "id": "pCvNQJAgLG5d"
      }
    },
    {
      "cell_type": "code",
      "source": [
        "# -*- coding: utf-8 -*-\n",
        "import pandas as pd\n",
        "import numpy as np\n",
        "import matplotlib.pyplot as plt\n",
        "from scipy.optimize import curve_fit\n",
        "from IPython.display import display, Markdown\n",
        "import sympy as sp"
      ],
      "metadata": {
        "id": "goDPschE3ezW"
      },
      "execution_count": 1,
      "outputs": []
    },
    {
      "cell_type": "code",
      "execution_count": 2,
      "metadata": {
        "colab": {
          "base_uri": "https://localhost:8080/",
          "height": 1000
        },
        "id": "VxvIOwsO3QWh",
        "outputId": "b3c548d1-5902-4eb9-8afb-cda2c99f8a0c"
      },
      "outputs": [
        {
          "output_type": "stream",
          "name": "stdout",
          "text": [
            "--- Tabla de Datos: Probabilidad de Compra vs. Salario ---\n"
          ]
        },
        {
          "output_type": "display_data",
          "data": {
            "text/plain": [
              "    Salario (miles)  Probabilidad\n",
              "0                 6        0.0400\n",
              "1                 7        0.0400\n",
              "2                 8        0.0400\n",
              "3                 9        0.0400\n",
              "4                10        0.0000\n",
              "5                11        0.0399\n",
              "6                12        0.0003\n",
              "7                13        0.0391\n",
              "8                14        0.0575\n",
              "9                15        0.0533\n",
              "10               16        0.0420\n",
              "11               17        0.0074\n",
              "12               18        0.0992\n",
              "13               19        0.2489\n",
              "14               20        0.5000\n",
              "15               21        0.6911\n",
              "16               22        0.8408\n",
              "17               23        0.8926\n",
              "18               24        0.9620\n",
              "19               25        0.9533\n",
              "20               26        0.9375\n",
              "21               27        0.9991\n",
              "22               28        0.9397\n",
              "23               29        0.9399\n",
              "24               30        1.0000"
            ],
            "text/html": [
              "\n",
              "  <div id=\"df-b2d11e79-567f-47da-af4f-8d6292267cf5\" class=\"colab-df-container\">\n",
              "    <div>\n",
              "<style scoped>\n",
              "    .dataframe tbody tr th:only-of-type {\n",
              "        vertical-align: middle;\n",
              "    }\n",
              "\n",
              "    .dataframe tbody tr th {\n",
              "        vertical-align: top;\n",
              "    }\n",
              "\n",
              "    .dataframe thead th {\n",
              "        text-align: right;\n",
              "    }\n",
              "</style>\n",
              "<table border=\"1\" class=\"dataframe\">\n",
              "  <thead>\n",
              "    <tr style=\"text-align: right;\">\n",
              "      <th></th>\n",
              "      <th>Salario (miles)</th>\n",
              "      <th>Probabilidad</th>\n",
              "    </tr>\n",
              "  </thead>\n",
              "  <tbody>\n",
              "    <tr>\n",
              "      <th>0</th>\n",
              "      <td>6</td>\n",
              "      <td>0.0400</td>\n",
              "    </tr>\n",
              "    <tr>\n",
              "      <th>1</th>\n",
              "      <td>7</td>\n",
              "      <td>0.0400</td>\n",
              "    </tr>\n",
              "    <tr>\n",
              "      <th>2</th>\n",
              "      <td>8</td>\n",
              "      <td>0.0400</td>\n",
              "    </tr>\n",
              "    <tr>\n",
              "      <th>3</th>\n",
              "      <td>9</td>\n",
              "      <td>0.0400</td>\n",
              "    </tr>\n",
              "    <tr>\n",
              "      <th>4</th>\n",
              "      <td>10</td>\n",
              "      <td>0.0000</td>\n",
              "    </tr>\n",
              "    <tr>\n",
              "      <th>5</th>\n",
              "      <td>11</td>\n",
              "      <td>0.0399</td>\n",
              "    </tr>\n",
              "    <tr>\n",
              "      <th>6</th>\n",
              "      <td>12</td>\n",
              "      <td>0.0003</td>\n",
              "    </tr>\n",
              "    <tr>\n",
              "      <th>7</th>\n",
              "      <td>13</td>\n",
              "      <td>0.0391</td>\n",
              "    </tr>\n",
              "    <tr>\n",
              "      <th>8</th>\n",
              "      <td>14</td>\n",
              "      <td>0.0575</td>\n",
              "    </tr>\n",
              "    <tr>\n",
              "      <th>9</th>\n",
              "      <td>15</td>\n",
              "      <td>0.0533</td>\n",
              "    </tr>\n",
              "    <tr>\n",
              "      <th>10</th>\n",
              "      <td>16</td>\n",
              "      <td>0.0420</td>\n",
              "    </tr>\n",
              "    <tr>\n",
              "      <th>11</th>\n",
              "      <td>17</td>\n",
              "      <td>0.0074</td>\n",
              "    </tr>\n",
              "    <tr>\n",
              "      <th>12</th>\n",
              "      <td>18</td>\n",
              "      <td>0.0992</td>\n",
              "    </tr>\n",
              "    <tr>\n",
              "      <th>13</th>\n",
              "      <td>19</td>\n",
              "      <td>0.2489</td>\n",
              "    </tr>\n",
              "    <tr>\n",
              "      <th>14</th>\n",
              "      <td>20</td>\n",
              "      <td>0.5000</td>\n",
              "    </tr>\n",
              "    <tr>\n",
              "      <th>15</th>\n",
              "      <td>21</td>\n",
              "      <td>0.6911</td>\n",
              "    </tr>\n",
              "    <tr>\n",
              "      <th>16</th>\n",
              "      <td>22</td>\n",
              "      <td>0.8408</td>\n",
              "    </tr>\n",
              "    <tr>\n",
              "      <th>17</th>\n",
              "      <td>23</td>\n",
              "      <td>0.8926</td>\n",
              "    </tr>\n",
              "    <tr>\n",
              "      <th>18</th>\n",
              "      <td>24</td>\n",
              "      <td>0.9620</td>\n",
              "    </tr>\n",
              "    <tr>\n",
              "      <th>19</th>\n",
              "      <td>25</td>\n",
              "      <td>0.9533</td>\n",
              "    </tr>\n",
              "    <tr>\n",
              "      <th>20</th>\n",
              "      <td>26</td>\n",
              "      <td>0.9375</td>\n",
              "    </tr>\n",
              "    <tr>\n",
              "      <th>21</th>\n",
              "      <td>27</td>\n",
              "      <td>0.9991</td>\n",
              "    </tr>\n",
              "    <tr>\n",
              "      <th>22</th>\n",
              "      <td>28</td>\n",
              "      <td>0.9397</td>\n",
              "    </tr>\n",
              "    <tr>\n",
              "      <th>23</th>\n",
              "      <td>29</td>\n",
              "      <td>0.9399</td>\n",
              "    </tr>\n",
              "    <tr>\n",
              "      <th>24</th>\n",
              "      <td>30</td>\n",
              "      <td>1.0000</td>\n",
              "    </tr>\n",
              "  </tbody>\n",
              "</table>\n",
              "</div>\n",
              "    <div class=\"colab-df-buttons\">\n",
              "\n",
              "  <div class=\"colab-df-container\">\n",
              "    <button class=\"colab-df-convert\" onclick=\"convertToInteractive('df-b2d11e79-567f-47da-af4f-8d6292267cf5')\"\n",
              "            title=\"Convert this dataframe to an interactive table.\"\n",
              "            style=\"display:none;\">\n",
              "\n",
              "  <svg xmlns=\"http://www.w3.org/2000/svg\" height=\"24px\" viewBox=\"0 -960 960 960\">\n",
              "    <path d=\"M120-120v-720h720v720H120Zm60-500h600v-160H180v160Zm220 220h160v-160H400v160Zm0 220h160v-160H400v160ZM180-400h160v-160H180v160Zm440 0h160v-160H620v160ZM180-180h160v-160H180v160Zm440 0h160v-160H620v160Z\"/>\n",
              "  </svg>\n",
              "    </button>\n",
              "\n",
              "  <style>\n",
              "    .colab-df-container {\n",
              "      display:flex;\n",
              "      gap: 12px;\n",
              "    }\n",
              "\n",
              "    .colab-df-convert {\n",
              "      background-color: #E8F0FE;\n",
              "      border: none;\n",
              "      border-radius: 50%;\n",
              "      cursor: pointer;\n",
              "      display: none;\n",
              "      fill: #1967D2;\n",
              "      height: 32px;\n",
              "      padding: 0 0 0 0;\n",
              "      width: 32px;\n",
              "    }\n",
              "\n",
              "    .colab-df-convert:hover {\n",
              "      background-color: #E2EBFA;\n",
              "      box-shadow: 0px 1px 2px rgba(60, 64, 67, 0.3), 0px 1px 3px 1px rgba(60, 64, 67, 0.15);\n",
              "      fill: #174EA6;\n",
              "    }\n",
              "\n",
              "    .colab-df-buttons div {\n",
              "      margin-bottom: 4px;\n",
              "    }\n",
              "\n",
              "    [theme=dark] .colab-df-convert {\n",
              "      background-color: #3B4455;\n",
              "      fill: #D2E3FC;\n",
              "    }\n",
              "\n",
              "    [theme=dark] .colab-df-convert:hover {\n",
              "      background-color: #434B5C;\n",
              "      box-shadow: 0px 1px 3px 1px rgba(0, 0, 0, 0.15);\n",
              "      filter: drop-shadow(0px 1px 2px rgba(0, 0, 0, 0.3));\n",
              "      fill: #FFFFFF;\n",
              "    }\n",
              "  </style>\n",
              "\n",
              "    <script>\n",
              "      const buttonEl =\n",
              "        document.querySelector('#df-b2d11e79-567f-47da-af4f-8d6292267cf5 button.colab-df-convert');\n",
              "      buttonEl.style.display =\n",
              "        google.colab.kernel.accessAllowed ? 'block' : 'none';\n",
              "\n",
              "      async function convertToInteractive(key) {\n",
              "        const element = document.querySelector('#df-b2d11e79-567f-47da-af4f-8d6292267cf5');\n",
              "        const dataTable =\n",
              "          await google.colab.kernel.invokeFunction('convertToInteractive',\n",
              "                                                    [key], {});\n",
              "        if (!dataTable) return;\n",
              "\n",
              "        const docLinkHtml = 'Like what you see? Visit the ' +\n",
              "          '<a target=\"_blank\" href=https://colab.research.google.com/notebooks/data_table.ipynb>data table notebook</a>'\n",
              "          + ' to learn more about interactive tables.';\n",
              "        element.innerHTML = '';\n",
              "        dataTable['output_type'] = 'display_data';\n",
              "        await google.colab.output.renderOutput(dataTable, element);\n",
              "        const docLink = document.createElement('div');\n",
              "        docLink.innerHTML = docLinkHtml;\n",
              "        element.appendChild(docLink);\n",
              "      }\n",
              "    </script>\n",
              "  </div>\n",
              "\n",
              "\n",
              "    <div id=\"df-92e0a1fa-c53d-4351-9d8c-d682f2b75420\">\n",
              "      <button class=\"colab-df-quickchart\" onclick=\"quickchart('df-92e0a1fa-c53d-4351-9d8c-d682f2b75420')\"\n",
              "                title=\"Suggest charts\"\n",
              "                style=\"display:none;\">\n",
              "\n",
              "<svg xmlns=\"http://www.w3.org/2000/svg\" height=\"24px\"viewBox=\"0 0 24 24\"\n",
              "     width=\"24px\">\n",
              "    <g>\n",
              "        <path d=\"M19 3H5c-1.1 0-2 .9-2 2v14c0 1.1.9 2 2 2h14c1.1 0 2-.9 2-2V5c0-1.1-.9-2-2-2zM9 17H7v-7h2v7zm4 0h-2V7h2v10zm4 0h-2v-4h2v4z\"/>\n",
              "    </g>\n",
              "</svg>\n",
              "      </button>\n",
              "\n",
              "<style>\n",
              "  .colab-df-quickchart {\n",
              "      --bg-color: #E8F0FE;\n",
              "      --fill-color: #1967D2;\n",
              "      --hover-bg-color: #E2EBFA;\n",
              "      --hover-fill-color: #174EA6;\n",
              "      --disabled-fill-color: #AAA;\n",
              "      --disabled-bg-color: #DDD;\n",
              "  }\n",
              "\n",
              "  [theme=dark] .colab-df-quickchart {\n",
              "      --bg-color: #3B4455;\n",
              "      --fill-color: #D2E3FC;\n",
              "      --hover-bg-color: #434B5C;\n",
              "      --hover-fill-color: #FFFFFF;\n",
              "      --disabled-bg-color: #3B4455;\n",
              "      --disabled-fill-color: #666;\n",
              "  }\n",
              "\n",
              "  .colab-df-quickchart {\n",
              "    background-color: var(--bg-color);\n",
              "    border: none;\n",
              "    border-radius: 50%;\n",
              "    cursor: pointer;\n",
              "    display: none;\n",
              "    fill: var(--fill-color);\n",
              "    height: 32px;\n",
              "    padding: 0;\n",
              "    width: 32px;\n",
              "  }\n",
              "\n",
              "  .colab-df-quickchart:hover {\n",
              "    background-color: var(--hover-bg-color);\n",
              "    box-shadow: 0 1px 2px rgba(60, 64, 67, 0.3), 0 1px 3px 1px rgba(60, 64, 67, 0.15);\n",
              "    fill: var(--button-hover-fill-color);\n",
              "  }\n",
              "\n",
              "  .colab-df-quickchart-complete:disabled,\n",
              "  .colab-df-quickchart-complete:disabled:hover {\n",
              "    background-color: var(--disabled-bg-color);\n",
              "    fill: var(--disabled-fill-color);\n",
              "    box-shadow: none;\n",
              "  }\n",
              "\n",
              "  .colab-df-spinner {\n",
              "    border: 2px solid var(--fill-color);\n",
              "    border-color: transparent;\n",
              "    border-bottom-color: var(--fill-color);\n",
              "    animation:\n",
              "      spin 1s steps(1) infinite;\n",
              "  }\n",
              "\n",
              "  @keyframes spin {\n",
              "    0% {\n",
              "      border-color: transparent;\n",
              "      border-bottom-color: var(--fill-color);\n",
              "      border-left-color: var(--fill-color);\n",
              "    }\n",
              "    20% {\n",
              "      border-color: transparent;\n",
              "      border-left-color: var(--fill-color);\n",
              "      border-top-color: var(--fill-color);\n",
              "    }\n",
              "    30% {\n",
              "      border-color: transparent;\n",
              "      border-left-color: var(--fill-color);\n",
              "      border-top-color: var(--fill-color);\n",
              "      border-right-color: var(--fill-color);\n",
              "    }\n",
              "    40% {\n",
              "      border-color: transparent;\n",
              "      border-right-color: var(--fill-color);\n",
              "      border-top-color: var(--fill-color);\n",
              "    }\n",
              "    60% {\n",
              "      border-color: transparent;\n",
              "      border-right-color: var(--fill-color);\n",
              "    }\n",
              "    80% {\n",
              "      border-color: transparent;\n",
              "      border-right-color: var(--fill-color);\n",
              "      border-bottom-color: var(--fill-color);\n",
              "    }\n",
              "    90% {\n",
              "      border-color: transparent;\n",
              "      border-bottom-color: var(--fill-color);\n",
              "    }\n",
              "  }\n",
              "</style>\n",
              "\n",
              "      <script>\n",
              "        async function quickchart(key) {\n",
              "          const quickchartButtonEl =\n",
              "            document.querySelector('#' + key + ' button');\n",
              "          quickchartButtonEl.disabled = true;  // To prevent multiple clicks.\n",
              "          quickchartButtonEl.classList.add('colab-df-spinner');\n",
              "          try {\n",
              "            const charts = await google.colab.kernel.invokeFunction(\n",
              "                'suggestCharts', [key], {});\n",
              "          } catch (error) {\n",
              "            console.error('Error during call to suggestCharts:', error);\n",
              "          }\n",
              "          quickchartButtonEl.classList.remove('colab-df-spinner');\n",
              "          quickchartButtonEl.classList.add('colab-df-quickchart-complete');\n",
              "        }\n",
              "        (() => {\n",
              "          let quickchartButtonEl =\n",
              "            document.querySelector('#df-92e0a1fa-c53d-4351-9d8c-d682f2b75420 button');\n",
              "          quickchartButtonEl.style.display =\n",
              "            google.colab.kernel.accessAllowed ? 'block' : 'none';\n",
              "        })();\n",
              "      </script>\n",
              "    </div>\n",
              "\n",
              "  <div id=\"id_8743dd3a-32b0-4459-b58a-807509a202bb\">\n",
              "    <style>\n",
              "      .colab-df-generate {\n",
              "        background-color: #E8F0FE;\n",
              "        border: none;\n",
              "        border-radius: 50%;\n",
              "        cursor: pointer;\n",
              "        display: none;\n",
              "        fill: #1967D2;\n",
              "        height: 32px;\n",
              "        padding: 0 0 0 0;\n",
              "        width: 32px;\n",
              "      }\n",
              "\n",
              "      .colab-df-generate:hover {\n",
              "        background-color: #E2EBFA;\n",
              "        box-shadow: 0px 1px 2px rgba(60, 64, 67, 0.3), 0px 1px 3px 1px rgba(60, 64, 67, 0.15);\n",
              "        fill: #174EA6;\n",
              "      }\n",
              "\n",
              "      [theme=dark] .colab-df-generate {\n",
              "        background-color: #3B4455;\n",
              "        fill: #D2E3FC;\n",
              "      }\n",
              "\n",
              "      [theme=dark] .colab-df-generate:hover {\n",
              "        background-color: #434B5C;\n",
              "        box-shadow: 0px 1px 3px 1px rgba(0, 0, 0, 0.15);\n",
              "        filter: drop-shadow(0px 1px 2px rgba(0, 0, 0, 0.3));\n",
              "        fill: #FFFFFF;\n",
              "      }\n",
              "    </style>\n",
              "    <button class=\"colab-df-generate\" onclick=\"generateWithVariable('df')\"\n",
              "            title=\"Generate code using this dataframe.\"\n",
              "            style=\"display:none;\">\n",
              "\n",
              "  <svg xmlns=\"http://www.w3.org/2000/svg\" height=\"24px\"viewBox=\"0 0 24 24\"\n",
              "       width=\"24px\">\n",
              "    <path d=\"M7,19H8.4L18.45,9,17,7.55,7,17.6ZM5,21V16.75L18.45,3.32a2,2,0,0,1,2.83,0l1.4,1.43a1.91,1.91,0,0,1,.58,1.4,1.91,1.91,0,0,1-.58,1.4L9.25,21ZM18.45,9,17,7.55Zm-12,3A5.31,5.31,0,0,0,4.9,8.1,5.31,5.31,0,0,0,1,6.5,5.31,5.31,0,0,0,4.9,4.9,5.31,5.31,0,0,0,6.5,1,5.31,5.31,0,0,0,8.1,4.9,5.31,5.31,0,0,0,12,6.5,5.46,5.46,0,0,0,6.5,12Z\"/>\n",
              "  </svg>\n",
              "    </button>\n",
              "    <script>\n",
              "      (() => {\n",
              "      const buttonEl =\n",
              "        document.querySelector('#id_8743dd3a-32b0-4459-b58a-807509a202bb button.colab-df-generate');\n",
              "      buttonEl.style.display =\n",
              "        google.colab.kernel.accessAllowed ? 'block' : 'none';\n",
              "\n",
              "      buttonEl.onclick = () => {\n",
              "        google.colab.notebook.generateWithVariable('df');\n",
              "      }\n",
              "      })();\n",
              "    </script>\n",
              "  </div>\n",
              "\n",
              "    </div>\n",
              "  </div>\n"
            ],
            "application/vnd.google.colaboratory.intrinsic+json": {
              "type": "dataframe",
              "variable_name": "df",
              "summary": "{\n  \"name\": \"df\",\n  \"rows\": 25,\n  \"fields\": [\n    {\n      \"column\": \"Salario (miles)\",\n      \"properties\": {\n        \"dtype\": \"number\",\n        \"std\": 7,\n        \"min\": 6,\n        \"max\": 30,\n        \"num_unique_values\": 25,\n        \"samples\": [\n          14,\n          22,\n          6\n        ],\n        \"semantic_type\": \"\",\n        \"description\": \"\"\n      }\n    },\n    {\n      \"column\": \"Probabilidad\",\n      \"properties\": {\n        \"dtype\": \"number\",\n        \"std\": 0.43151678229241563,\n        \"min\": 0.0,\n        \"max\": 1.0,\n        \"num_unique_values\": 22,\n        \"samples\": [\n          0.04,\n          0.8408,\n          0.0074\n        ],\n        \"semantic_type\": \"\",\n        \"description\": \"\"\n      }\n    }\n  ]\n}"
            }
          },
          "metadata": {}
        },
        {
          "output_type": "stream",
          "name": "stdout",
          "text": [
            "\n",
            "--- Identificación de x_0 a partir de los datos ---\n",
            "Observando la tabla, cuando el salario es de 20 miles, la probabilidad de compra es 0.5.\n",
            "Por lo tanto, el valor del parámetro x_0 es: 20\n",
            "Este valor representa el punto de inflexión de la curva logística.\n",
            "\n",
            "--- Verificación mediante ajuste de curva ---\n",
            "El valor de x_0 calculado por el ajuste es: 20.1505\n",
            "El valor de k (tasa de crecimiento) ajustado es: 0.8993\n"
          ]
        },
        {
          "output_type": "display_data",
          "data": {
            "text/plain": [
              "<Figure size 1000x600 with 1 Axes>"
            ],
            "image/png": "[encoded data removed]"
          },
          "metadata": {}
        }
      ],
      "source": [
        "# ---------- 1. DATOS ORIGINALES ----------\n",
        "# Se crea un DataFrame de pandas para almacenar y mostrar los datos.\n",
        "data = {\n",
        "    'Salario (miles)': [6, 7, 8, 9, 10, 11, 12, 13, 14, 15, 16, 17, 18, 19, 20, 21, 22, 23, 24, 25, 26, 27, 28, 29, 30],\n",
        "    'Probabilidad': [0.0400, 0.0400, 0.0400, 0.0400, 0.0000, 0.0399, 0.0003, 0.0391, 0.0575, 0.0533, 0.0420, 0.0074, 0.0992, 0.2489, 0.5000, 0.6911, 0.8408, 0.8926, 0.9620, 0.9533, 0.9375, 0.9991, 0.9397, 0.9399, 1.0000]\n",
        "}\n",
        "df = pd.DataFrame(data)\n",
        "\n",
        "# Se muestra la tabla original de datos\n",
        "print(\"--- Tabla de Datos: Probabilidad de Compra vs. Salario ---\")\n",
        "# La función display() ofrece un formato de tabla más agradable en Colab\n",
        "display(df)\n",
        "\n",
        "\n",
        "# ---------- 2. IDENTIFICACIÓN DEL PARÁMETRO X_0 ----------\n",
        "\n",
        "# Como se indica en el análisis, podemos identificar x_0 directamente de los datos,\n",
        "# ya que la probabilidad es exactamente 0.5 cuando el salario es 20.\n",
        "x0_observado = df[df['Probabilidad'] == 0.5]['Salario (miles)'].values[0]\n",
        "\n",
        "print(\"\\n--- Identificación de x_0 a partir de los datos ---\")\n",
        "print(f\"Observando la tabla, cuando el salario es de {x0_observado} miles, la probabilidad de compra es 0.5.\")\n",
        "print(f\"Por lo tanto, el valor del parámetro x_0 es: {x0_observado}\")\n",
        "print(\"Este valor representa el punto de inflexión de la curva logística.\")\n",
        "\n",
        "# ---------- 3. AJUSTE DE CURVA LOGÍSTICA (VERIFICACIÓN) ----------\n",
        "# Para verificar esto computacionalmente, podemos ajustar una función logística a los datos.\n",
        "\n",
        "# Definición de la función logística:\n",
        "# f(x) = 1 / (1 + e^(-k*(x - x0)))\n",
        "def funcion_logistica(x, k, x0):\n",
        "    return 1 / (1 + np.exp(-k * (x - x0)))\n",
        "\n",
        "# Extraemos las variables 'x' y 'y' del DataFrame\n",
        "x_data = df['Salario (miles)']\n",
        "y_data = df['Probabilidad']\n",
        "\n",
        "# Usamos 'curve_fit' para encontrar los mejores parámetros 'k' y 'x0'\n",
        "initial_guess = [0.5, 20] # [k_inicial, x0_inicial]\n",
        "params, covariance = curve_fit(funcion_logistica, x_data, y_data, p0=initial_guess)\n",
        "\n",
        "# Extraemos los parámetros optimizados\n",
        "k_ajustado, x0_ajustado = params\n",
        "\n",
        "print(\"\\n--- Verificación mediante ajuste de curva ---\")\n",
        "print(f\"El valor de x_0 calculado por el ajuste es: {x0_ajustado:.4f}\")\n",
        "print(f\"El valor de k (tasa de crecimiento) ajustado es: {k_ajustado:.4f}\")\n",
        "\n",
        "\n",
        "# ---------- 4. VISUALIZACIÓN DE RESULTADOS ----------\n",
        "plt.style.use('seaborn-v0_8-whitegrid')\n",
        "fig, ax = plt.subplots(figsize=(10, 6))\n",
        "\n",
        "# Graficar los datos originales\n",
        "ax.scatter(x_data, y_data, color='red', label='Datos Originales', zorder=5)\n",
        "\n",
        "# Generar puntos para la curva ajustada\n",
        "x_fit = np.linspace(df['Salario (miles)'].min(), df['Salario (miles)'].max(), 300)\n",
        "y_fit = funcion_logistica(x_fit, k_ajustado, x0_ajustado)\n",
        "\n",
        "# Graficar la curva logística ajustada\n",
        "ax.plot(x_fit, y_fit, label='Curva Logística Ajustada', color='blue', linewidth=2)\n",
        "\n",
        "# Resaltar el punto de inflexión x_0\n",
        "ax.axvline(x=x0_ajustado, color='green', linestyle='--', label=f'$x_0$ = {x0_ajustado:.2f}')\n",
        "ax.axhline(y=0.5, color='gray', linestyle=':')\n",
        "\n",
        "# Añadir títulos y etiquetas\n",
        "ax.set_title('Análisis de Probabilidad de Compra vs. Salario', fontsize=16)\n",
        "ax.set_xlabel('Salario (en miles)', fontsize=12)\n",
        "ax.set_ylabel('Probabilidad de Compra', fontsize=12)\n",
        "ax.legend(loc='best')\n",
        "ax.set_ylim(-0.05, 1.05)\n",
        "\n",
        "# Mostrar la gráfica\n",
        "plt.show()"
      ]
    },
    {
      "cell_type": "code",
      "source": [
        "# ---------- 1. CONFIGURACIÓN INICIAL DE SYMPY ----------\n",
        "sp.init_printing(use_latex='mathjax')\n",
        "x, x0 = sp.symbols('x x_0')\n",
        "f_x = 1 / (1 + sp.exp(-(x - x0)))\n",
        "display(Markdown(\"## 1. Función Logística Original\"))\n",
        "display(sp.Eq(sp.Function('f')(x), f_x))\n",
        "\n",
        "# ---------- 2. CÁLCULO DE LAS DERIVADAS ----------\n",
        "df_dx = sp.diff(f_x, x)\n",
        "d2f_dx2 = sp.diff(df_dx, x)\n",
        "d3f_dx3 = sp.diff(d2f_dx2, x)\n",
        "display(Markdown(\"## 2. Cálculo de Derivadas Simbólicas\"))\n",
        "display(Markdown(\"### Primera Derivada $f'(x)$\"))\n",
        "display(sp.Eq(sp.Derivative(f_x, x), df_dx.simplify()))\n",
        "display(Markdown(\"### Segunda Derivada $f''(x)$\"))\n",
        "display(sp.Eq(sp.Derivative(f_x, (x, 2)), d2f_dx2.simplify()))\n",
        "display(Markdown(\"### Tercera Derivada $f'''(x)$\"))\n",
        "display(sp.Eq(sp.Derivative(f_x, (x, 3)), d3f_dx3.simplify()))\n",
        "\n",
        "# ---------- 3. EVALUACIÓN DE LAS DERIVADAS EN x_0 ----------\n",
        "x0_val = 20\n",
        "f_x0 = f_x.subs(x, x0)\n",
        "df_dx0 = df_dx.subs(x, x0)\n",
        "d2f_dx2_x0 = d2f_dx2.subs(x, x0)\n",
        "d3f_dx3_x0 = d3f_dx3.subs(x, x0)\n",
        "display(Markdown(f\"## 3. Evaluación de Derivadas en $x_0 = {x0_val}$\"))\n",
        "display(Markdown(f\"El valor de $f({x0_val})$ es: {f_x0}\"))\n",
        "display(Markdown(f\"El valor de $f'({x0_val})$ es: {df_dx0}\"))\n",
        "display(Markdown(f\"El valor de $f''({x0_val})$ es: {d2f_dx2_x0}\"))\n",
        "display(Markdown(f\"El valor de $f'''({x0_val})$ es: {d3f_dx3_x0}\"))\n",
        "\n",
        "# ---------- 4. CONSTRUCCIÓN DEL POLINOMIO DE TAYLOR ----------\n",
        "c0 = f_x0\n",
        "c1 = df_dx0\n",
        "c2 = d2f_dx2_x0 / sp.factorial(2)\n",
        "c3 = d3f_dx3_x0 / sp.factorial(3)\n",
        "\n",
        "# Construimos el polinomio sustituyendo los coeficientes\n",
        "# Esta variable contiene la forma \"manual\"\n",
        "P3_manual_form = c0 + c1*(x - x0) + c2*(x - x0)**2 + c3*(x - x0)**3\n",
        "P3_manual_form = P3_manual_form.subs(x0, x0_val)\n",
        "\n",
        "# ---------- 5. VERIFICACIÓN DE LAS FORMAS DEL POLINOMIO ----------\n",
        "display(Markdown(\"## 5. Verificación de las Formas del Polinomio\"))\n",
        "\n",
        "# Forma 1: Directa de la fórmula de Taylor (tu forma \"manual\")\n",
        "display(Markdown(\"### Forma 'Manual' (Sin expandir)\"))\n",
        "display(Markdown(\"Esta es la construcción directa del polinomio, tal como en la fórmula de Taylor:\"))\n",
        "display(sp.Eq(sp.Symbol('P_3(x)'), P3_manual_form))\n",
        "\n",
        "# Forma 2: Expandiendo el término lineal\n",
        "# Usamos sp.expand() para multiplicar 0.25*(x-20) y agrupar constantes\n",
        "P3_expanded_form = sp.expand(P3_manual_form)\n",
        "display(Markdown(\"### Forma Expandida (Simplificada por SymPy)\"))\n",
        "display(Markdown(\"Si expandimos el término $0.25(x-20)$ y lo agrupamos con la constante $0.5$, obtenemos la otra forma:\"))\n",
        "display(sp.Eq(sp.Symbol('P_3(x)'), P3_expanded_form))"
      ],
      "metadata": {
        "colab": {
          "base_uri": "https://localhost:8080/",
          "height": 853
        },
        "id": "G3b__aPs5KUJ",
        "outputId": "a1d099c6-ffc4-48c6-fcb2-923f17e48fae"
      },
      "execution_count": 5,
      "outputs": [
        {
          "output_type": "display_data",
          "data": {
            "text/plain": [
              "<IPython.core.display.Markdown object>"
            ],
            "text/markdown": "## 1. Función Logística Original"
          },
          "metadata": {}
        },
        {
          "output_type": "display_data",
          "data": {
            "text/plain": [
              "            1      \n",
              "f(x) = ────────────\n",
              "        -x + x₀    \n",
              "       ℯ        + 1"
            ],
            "text/latex": "$\\displaystyle f{\\left(x \\right)} = \\frac{1}{e^{- x + x_{0}} + 1}$"
          },
          "metadata": {}
        },
        {
          "output_type": "display_data",
          "data": {
            "text/plain": [
              "<IPython.core.display.Markdown object>"
            ],
            "text/markdown": "## 2. Cálculo de Derivadas Simbólicas"
          },
          "metadata": {}
        },
        {
          "output_type": "display_data",
          "data": {
            "text/plain": [
              "<IPython.core.display.Markdown object>"
            ],
            "text/markdown": "### Primera Derivada $f'(x)$"
          },
          "metadata": {}
        },
        {
          "output_type": "display_data",
          "data": {
            "text/plain": [
              "∂ ⎛     1      ⎞          1       \n",
              "──⎜────────────⎟ = ───────────────\n",
              "∂x⎜ -x + x₀    ⎟         2⎛x   x₀⎞\n",
              "  ⎝ℯ        + 1⎠   4⋅cosh ⎜─ - ──⎟\n",
              "                          ⎝2   2 ⎠"
            ],
            "text/latex": "$\\displaystyle \\frac{\\partial}{\\partial x} \\frac{1}{e^{- x + x_{0}} + 1} = \\frac{1}{4 \\cosh^{2}{\\left(\\frac{x}{2} - \\frac{x_{0}}{2} \\right)}}$"
          },
          "metadata": {}
        },
        {
          "output_type": "display_data",
          "data": {
            "text/plain": [
              "<IPython.core.display.Markdown object>"
            ],
            "text/markdown": "### Segunda Derivada $f''(x)$"
          },
          "metadata": {}
        },
        {
          "output_type": "display_data",
          "data": {
            "text/plain": [
              " 2                  ⎛     x - x₀⎞  x - x₀\n",
              "∂  ⎛     1      ⎞   ⎝1 - ℯ      ⎠⋅ℯ      \n",
              "───⎜────────────⎟ = ─────────────────────\n",
              "  2⎜ -x + x₀    ⎟                   3    \n",
              "∂x ⎝ℯ        + 1⎠      ⎛ x - x₀    ⎞     \n",
              "                       ⎝ℯ       + 1⎠     "
            ],
            "text/latex": "$\\displaystyle \\frac{\\partial^{2}}{\\partial x^{2}} \\frac{1}{e^{- x + x_{0}} + 1} = \\frac{\\left(1 - e^{x - x_{0}}\\right) e^{x - x_{0}}}{\\left(e^{x - x_{0}} + 1\\right)^{3}}$"
          },
          "metadata": {}
        },
        {
          "output_type": "display_data",
          "data": {
            "text/plain": [
              "<IPython.core.display.Markdown object>"
            ],
            "text/markdown": "### Tercera Derivada $f'''(x)$"
          },
          "metadata": {}
        },
        {
          "output_type": "display_data",
          "data": {
            "text/plain": [
              "                    ⎛             2            ⎞        \n",
              " 3                  ⎜⎛ x - x₀    ⎞       x - x₀⎟  x - x₀\n",
              "∂  ⎛     1      ⎞   ⎝⎝ℯ       + 1⎠  - 6⋅ℯ      ⎠⋅ℯ      \n",
              "───⎜────────────⎟ = ────────────────────────────────────\n",
              "  3⎜ -x + x₀    ⎟                           4           \n",
              "∂x ⎝ℯ        + 1⎠              ⎛ x - x₀    ⎞            \n",
              "                               ⎝ℯ       + 1⎠            "
            ],
            "text/latex": "$\\displaystyle \\frac{\\partial^{3}}{\\partial x^{3}} \\frac{1}{e^{- x + x_{0}} + 1} = \\frac{\\left(\\left(e^{x - x_{0}} + 1\\right)^{2} - 6 e^{x - x_{0}}\\right) e^{x - x_{0}}}{\\left(e^{x - x_{0}} + 1\\right)^{4}}$"
          },
          "metadata": {}
        },
        {
          "output_type": "display_data",
          "data": {
            "text/plain": [
              "<IPython.core.display.Markdown object>"
            ],
            "text/markdown": "## 3. Evaluación de Derivadas en $x_0 = 20$"
          },
          "metadata": {}
        },
        {
          "output_type": "display_data",
          "data": {
            "text/plain": [
              "<IPython.core.display.Markdown object>"
            ],
            "text/markdown": "El valor de $f(20)$ es: 1/2"
          },
          "metadata": {}
        },
        {
          "output_type": "display_data",
          "data": {
            "text/plain": [
              "<IPython.core.display.Markdown object>"
            ],
            "text/markdown": "El valor de $f'(20)$ es: 1/4"
          },
          "metadata": {}
        },
        {
          "output_type": "display_data",
          "data": {
            "text/plain": [
              "<IPython.core.display.Markdown object>"
            ],
            "text/markdown": "El valor de $f''(20)$ es: 0"
          },
          "metadata": {}
        },
        {
          "output_type": "display_data",
          "data": {
            "text/plain": [
              "<IPython.core.display.Markdown object>"
            ],
            "text/markdown": "El valor de $f'''(20)$ es: -1/8"
          },
          "metadata": {}
        },
        {
          "output_type": "display_data",
          "data": {
            "text/plain": [
              "<IPython.core.display.Markdown object>"
            ],
            "text/markdown": "## 5. Verificación de las Formas del Polinomio"
          },
          "metadata": {}
        },
        {
          "output_type": "display_data",
          "data": {
            "text/plain": [
              "<IPython.core.display.Markdown object>"
            ],
            "text/markdown": "### Forma 'Manual' (Sin expandir)"
          },
          "metadata": {}
        },
        {
          "output_type": "display_data",
          "data": {
            "text/plain": [
              "<IPython.core.display.Markdown object>"
            ],
            "text/markdown": "Esta es la construcción directa del polinomio, tal como en la fórmula de Taylor:"
          },
          "metadata": {}
        },
        {
          "output_type": "display_data",
          "data": {
            "text/plain": [
              "                    3    \n",
              "        x   (x - 20)    9\n",
              "P₃₍ₓ₎ = ─ - ───────── - ─\n",
              "        4      48       2"
            ],
            "text/latex": "$\\displaystyle P_{3(x)} = \\frac{x}{4} - \\frac{\\left(x - 20\\right)^{3}}{48} - \\frac{9}{2}$"
          },
          "metadata": {}
        },
        {
          "output_type": "display_data",
          "data": {
            "text/plain": [
              "<IPython.core.display.Markdown object>"
            ],
            "text/markdown": "### Forma Expandida (Simplificada por SymPy)"
          },
          "metadata": {}
        },
        {
          "output_type": "display_data",
          "data": {
            "text/plain": [
              "<IPython.core.display.Markdown object>"
            ],
            "text/markdown": "Si expandimos el término $0.25(x-20)$ y lo agrupamos con la constante $0.5$, obtenemos la otra forma:"
          },
          "metadata": {}
        },
        {
          "output_type": "display_data",
          "data": {
            "text/plain": [
              "           3      2             \n",
              "          x    5⋅x    99⋅x   973\n",
              "P₃₍ₓ₎ = - ── + ──── - ──── + ───\n",
              "          48    4      4      6 "
            ],
            "text/latex": "$\\displaystyle P_{3(x)} = - \\frac{x^{3}}{48} + \\frac{5 x^{2}}{4} - \\frac{99 x}{4} + \\frac{973}{6}$"
          },
          "metadata": {}
        }
      ]
    },
    {
      "cell_type": "code",
      "source": [
        "# ---------- 1. DATOS Y DEFINICIÓN DEL POLINOMIO ----------\n",
        "\n",
        "# Recreamos el DataFrame original con los salarios y las probabilidades reales\n",
        "data = {\n",
        "    'Salario': [6, 7, 8, 9, 10, 11, 12, 13, 14, 15, 16, 17, 18, 19, 20, 21, 22, 23, 24, 25, 26, 27, 28, 29, 30],\n",
        "    'Valor Real': [0.0400, 0.0400, 0.0400, 0.0400, 0.0000, 0.0399, 0.0003, 0.0391, 0.0575, 0.0533, 0.0420, 0.0074, 0.0992, 0.2489, 0.5000, 0.6911, 0.8408, 0.8926, 0.9620, 0.9533, 0.9375, 0.9991, 0.9397, 0.9399, 1.0000]\n",
        "}\n",
        "df = pd.DataFrame(data)\n",
        "\n",
        "# Definimos el polinomio de Taylor P3(x) como una función de Python\n",
        "def polinomio_taylor_p3(x):\n",
        "    \"\"\"Calcula el valor del polinomio de Taylor de orden 3 centrado en x0=20.\"\"\"\n",
        "    x0 = 20\n",
        "    p3 = 0.5 + 0.25 * (x - x0) - ((x - x0)**3) / 48\n",
        "    return p3\n",
        "\n",
        "# ---------- 2. EVALUACIÓN DEL POLINOMIO Y CÁLCULO DE ERROR ----------\n",
        "\n",
        "# Aplicamos la función del polinomio a cada valor de 'Salario' para obtener la aproximación\n",
        "df['Aproximación'] = df['Salario'].apply(polinomio_taylor_p3)\n",
        "\n",
        "# Calculamos el error absoluto para cada fila\n",
        "df['Error Absoluto'] = abs(df['Valor Real'] - df['Aproximación'])\n",
        "\n",
        "# Mostramos la tabla comparativa completa\n",
        "display(Markdown(\"## 1. Comparación entre Valores Reales y Aproximados\"))\n",
        "\n",
        "# Usamos .style.format() para que los números se vean con 4 decimales, igual que en tu tabla\n",
        "display(df.style.format({\n",
        "    'Valor Real': '{:.4f}',\n",
        "    'Aproximación': '{:.4f}',\n",
        "    'Error Absoluto': '{:.4f}'\n",
        "}).hide(axis=\"index\")) # Opcional: .hide() quita los números de índice de la izquierda\n",
        "\n",
        "\n",
        "# ---------- 3. ANÁLISIS DEL ERROR DE APROXIMACIÓN ----------\n",
        "display(Markdown(\"\\n## 2. Análisis del Error de Aproximación\"))\n",
        "\n",
        "# Error Promedio\n",
        "error_promedio = df['Error Absoluto'].mean()\n",
        "display(Markdown(f\"### Error Promedio\"))\n",
        "display(Markdown(f\"El error promedio en todo el conjunto de datos es: **{error_promedio:.4f}**\"))\n",
        "\n",
        "# Error Máximo\n",
        "error_maximo = df['Error Absoluto'].max()\n",
        "display(Markdown(f\"### Error Máximo\"))\n",
        "display(Markdown(f\"El error máximo encontrado es: **{error_maximo:.4f}**\"))\n",
        "\n",
        "# Distribución del Error por Rangos\n",
        "display(Markdown(f\"### Distribución del Error por Rangos\"))\n",
        "\n",
        "# Rango cercano: x entre 17 y 23 (inclusive)\n",
        "rango_cercano_df = df[df['Salario'].between(17, 23)]\n",
        "error_promedio_cercano = rango_cercano_df['Error Absoluto'].mean()\n",
        "display(Markdown(f\"* **Rango cercano** ($x \\\\in [17, 23]$): Error promedio = **{error_promedio_cercano:.4f}**\"))\n",
        "\n",
        "# Rango lejano: x menor a 17 o mayor a 23\n",
        "rango_lejano_df = df[(df['Salario'] < 17) | (df['Salario'] > 23)]\n",
        "error_promedio_lejano = rango_lejano_df['Error Absoluto'].mean()\n",
        "display(Markdown(f\"* **Rango lejano** ($x < 17$ o $x > 23$): Error promedio = **{error_promedio_lejano:.4f}**\"))"
      ],
      "metadata": {
        "colab": {
          "base_uri": "https://localhost:8080/",
          "height": 1000
        },
        "id": "VnFqjtg2GLcI",
        "outputId": "65e809ef-50b6-4313-d3ef-2f9b4c65f039"
      },
      "execution_count": 6,
      "outputs": [
        {
          "output_type": "display_data",
          "data": {
            "text/plain": [
              "<IPython.core.display.Markdown object>"
            ],
            "text/markdown": "## 1. Comparación entre Valores Reales y Aproximados"
          },
          "metadata": {}
        },
        {
          "output_type": "display_data",
          "data": {
            "text/plain": [
              "<pandas.io.formats.style.Styler at 0x7e1076574620>"
            ],
            "text/html": [
              "<style type=\"text/css\">\n",
              "</style>\n",
              "<table id=\"T_19a24\" class=\"dataframe\">\n",
              "  <thead>\n",
              "    <tr>\n",
              "      <th id=\"T_19a24_level0_col0\" class=\"col_heading level0 col0\" >Salario</th>\n",
              "      <th id=\"T_19a24_level0_col1\" class=\"col_heading level0 col1\" >Valor Real</th>\n",
              "      <th id=\"T_19a24_level0_col2\" class=\"col_heading level0 col2\" >Aproximación</th>\n",
              "      <th id=\"T_19a24_level0_col3\" class=\"col_heading level0 col3\" >Error Absoluto</th>\n",
              "    </tr>\n",
              "  </thead>\n",
              "  <tbody>\n",
              "    <tr>\n",
              "      <td id=\"T_19a24_row0_col0\" class=\"data row0 col0\" >6</td>\n",
              "      <td id=\"T_19a24_row0_col1\" class=\"data row0 col1\" >0.0400</td>\n",
              "      <td id=\"T_19a24_row0_col2\" class=\"data row0 col2\" >54.1667</td>\n",
              "      <td id=\"T_19a24_row0_col3\" class=\"data row0 col3\" >54.1267</td>\n",
              "    </tr>\n",
              "    <tr>\n",
              "      <td id=\"T_19a24_row1_col0\" class=\"data row1 col0\" >7</td>\n",
              "      <td id=\"T_19a24_row1_col1\" class=\"data row1 col1\" >0.0400</td>\n",
              "      <td id=\"T_19a24_row1_col2\" class=\"data row1 col2\" >43.0208</td>\n",
              "      <td id=\"T_19a24_row1_col3\" class=\"data row1 col3\" >42.9808</td>\n",
              "    </tr>\n",
              "    <tr>\n",
              "      <td id=\"T_19a24_row2_col0\" class=\"data row2 col0\" >8</td>\n",
              "      <td id=\"T_19a24_row2_col1\" class=\"data row2 col1\" >0.0400</td>\n",
              "      <td id=\"T_19a24_row2_col2\" class=\"data row2 col2\" >33.5000</td>\n",
              "      <td id=\"T_19a24_row2_col3\" class=\"data row2 col3\" >33.4600</td>\n",
              "    </tr>\n",
              "    <tr>\n",
              "      <td id=\"T_19a24_row3_col0\" class=\"data row3 col0\" >9</td>\n",
              "      <td id=\"T_19a24_row3_col1\" class=\"data row3 col1\" >0.0400</td>\n",
              "      <td id=\"T_19a24_row3_col2\" class=\"data row3 col2\" >25.4792</td>\n",
              "      <td id=\"T_19a24_row3_col3\" class=\"data row3 col3\" >25.4392</td>\n",
              "    </tr>\n",
              "    <tr>\n",
              "      <td id=\"T_19a24_row4_col0\" class=\"data row4 col0\" >10</td>\n",
              "      <td id=\"T_19a24_row4_col1\" class=\"data row4 col1\" >0.0000</td>\n",
              "      <td id=\"T_19a24_row4_col2\" class=\"data row4 col2\" >18.8333</td>\n",
              "      <td id=\"T_19a24_row4_col3\" class=\"data row4 col3\" >18.8333</td>\n",
              "    </tr>\n",
              "    <tr>\n",
              "      <td id=\"T_19a24_row5_col0\" class=\"data row5 col0\" >11</td>\n",
              "      <td id=\"T_19a24_row5_col1\" class=\"data row5 col1\" >0.0399</td>\n",
              "      <td id=\"T_19a24_row5_col2\" class=\"data row5 col2\" >13.4375</td>\n",
              "      <td id=\"T_19a24_row5_col3\" class=\"data row5 col3\" >13.3976</td>\n",
              "    </tr>\n",
              "    <tr>\n",
              "      <td id=\"T_19a24_row6_col0\" class=\"data row6 col0\" >12</td>\n",
              "      <td id=\"T_19a24_row6_col1\" class=\"data row6 col1\" >0.0003</td>\n",
              "      <td id=\"T_19a24_row6_col2\" class=\"data row6 col2\" >9.1667</td>\n",
              "      <td id=\"T_19a24_row6_col3\" class=\"data row6 col3\" >9.1664</td>\n",
              "    </tr>\n",
              "    <tr>\n",
              "      <td id=\"T_19a24_row7_col0\" class=\"data row7 col0\" >13</td>\n",
              "      <td id=\"T_19a24_row7_col1\" class=\"data row7 col1\" >0.0391</td>\n",
              "      <td id=\"T_19a24_row7_col2\" class=\"data row7 col2\" >5.8958</td>\n",
              "      <td id=\"T_19a24_row7_col3\" class=\"data row7 col3\" >5.8567</td>\n",
              "    </tr>\n",
              "    <tr>\n",
              "      <td id=\"T_19a24_row8_col0\" class=\"data row8 col0\" >14</td>\n",
              "      <td id=\"T_19a24_row8_col1\" class=\"data row8 col1\" >0.0575</td>\n",
              "      <td id=\"T_19a24_row8_col2\" class=\"data row8 col2\" >3.5000</td>\n",
              "      <td id=\"T_19a24_row8_col3\" class=\"data row8 col3\" >3.4425</td>\n",
              "    </tr>\n",
              "    <tr>\n",
              "      <td id=\"T_19a24_row9_col0\" class=\"data row9 col0\" >15</td>\n",
              "      <td id=\"T_19a24_row9_col1\" class=\"data row9 col1\" >0.0533</td>\n",
              "      <td id=\"T_19a24_row9_col2\" class=\"data row9 col2\" >1.8542</td>\n",
              "      <td id=\"T_19a24_row9_col3\" class=\"data row9 col3\" >1.8009</td>\n",
              "    </tr>\n",
              "    <tr>\n",
              "      <td id=\"T_19a24_row10_col0\" class=\"data row10 col0\" >16</td>\n",
              "      <td id=\"T_19a24_row10_col1\" class=\"data row10 col1\" >0.0420</td>\n",
              "      <td id=\"T_19a24_row10_col2\" class=\"data row10 col2\" >0.8333</td>\n",
              "      <td id=\"T_19a24_row10_col3\" class=\"data row10 col3\" >0.7913</td>\n",
              "    </tr>\n",
              "    <tr>\n",
              "      <td id=\"T_19a24_row11_col0\" class=\"data row11 col0\" >17</td>\n",
              "      <td id=\"T_19a24_row11_col1\" class=\"data row11 col1\" >0.0074</td>\n",
              "      <td id=\"T_19a24_row11_col2\" class=\"data row11 col2\" >0.3125</td>\n",
              "      <td id=\"T_19a24_row11_col3\" class=\"data row11 col3\" >0.3051</td>\n",
              "    </tr>\n",
              "    <tr>\n",
              "      <td id=\"T_19a24_row12_col0\" class=\"data row12 col0\" >18</td>\n",
              "      <td id=\"T_19a24_row12_col1\" class=\"data row12 col1\" >0.0992</td>\n",
              "      <td id=\"T_19a24_row12_col2\" class=\"data row12 col2\" >0.1667</td>\n",
              "      <td id=\"T_19a24_row12_col3\" class=\"data row12 col3\" >0.0675</td>\n",
              "    </tr>\n",
              "    <tr>\n",
              "      <td id=\"T_19a24_row13_col0\" class=\"data row13 col0\" >19</td>\n",
              "      <td id=\"T_19a24_row13_col1\" class=\"data row13 col1\" >0.2489</td>\n",
              "      <td id=\"T_19a24_row13_col2\" class=\"data row13 col2\" >0.2708</td>\n",
              "      <td id=\"T_19a24_row13_col3\" class=\"data row13 col3\" >0.0219</td>\n",
              "    </tr>\n",
              "    <tr>\n",
              "      <td id=\"T_19a24_row14_col0\" class=\"data row14 col0\" >20</td>\n",
              "      <td id=\"T_19a24_row14_col1\" class=\"data row14 col1\" >0.5000</td>\n",
              "      <td id=\"T_19a24_row14_col2\" class=\"data row14 col2\" >0.5000</td>\n",
              "      <td id=\"T_19a24_row14_col3\" class=\"data row14 col3\" >0.0000</td>\n",
              "    </tr>\n",
              "    <tr>\n",
              "      <td id=\"T_19a24_row15_col0\" class=\"data row15 col0\" >21</td>\n",
              "      <td id=\"T_19a24_row15_col1\" class=\"data row15 col1\" >0.6911</td>\n",
              "      <td id=\"T_19a24_row15_col2\" class=\"data row15 col2\" >0.7292</td>\n",
              "      <td id=\"T_19a24_row15_col3\" class=\"data row15 col3\" >0.0381</td>\n",
              "    </tr>\n",
              "    <tr>\n",
              "      <td id=\"T_19a24_row16_col0\" class=\"data row16 col0\" >22</td>\n",
              "      <td id=\"T_19a24_row16_col1\" class=\"data row16 col1\" >0.8408</td>\n",
              "      <td id=\"T_19a24_row16_col2\" class=\"data row16 col2\" >0.8333</td>\n",
              "      <td id=\"T_19a24_row16_col3\" class=\"data row16 col3\" >0.0075</td>\n",
              "    </tr>\n",
              "    <tr>\n",
              "      <td id=\"T_19a24_row17_col0\" class=\"data row17 col0\" >23</td>\n",
              "      <td id=\"T_19a24_row17_col1\" class=\"data row17 col1\" >0.8926</td>\n",
              "      <td id=\"T_19a24_row17_col2\" class=\"data row17 col2\" >0.6875</td>\n",
              "      <td id=\"T_19a24_row17_col3\" class=\"data row17 col3\" >0.2051</td>\n",
              "    </tr>\n",
              "    <tr>\n",
              "      <td id=\"T_19a24_row18_col0\" class=\"data row18 col0\" >24</td>\n",
              "      <td id=\"T_19a24_row18_col1\" class=\"data row18 col1\" >0.9620</td>\n",
              "      <td id=\"T_19a24_row18_col2\" class=\"data row18 col2\" >0.1667</td>\n",
              "      <td id=\"T_19a24_row18_col3\" class=\"data row18 col3\" >0.7953</td>\n",
              "    </tr>\n",
              "    <tr>\n",
              "      <td id=\"T_19a24_row19_col0\" class=\"data row19 col0\" >25</td>\n",
              "      <td id=\"T_19a24_row19_col1\" class=\"data row19 col1\" >0.9533</td>\n",
              "      <td id=\"T_19a24_row19_col2\" class=\"data row19 col2\" >-0.8542</td>\n",
              "      <td id=\"T_19a24_row19_col3\" class=\"data row19 col3\" >1.8075</td>\n",
              "    </tr>\n",
              "    <tr>\n",
              "      <td id=\"T_19a24_row20_col0\" class=\"data row20 col0\" >26</td>\n",
              "      <td id=\"T_19a24_row20_col1\" class=\"data row20 col1\" >0.9375</td>\n",
              "      <td id=\"T_19a24_row20_col2\" class=\"data row20 col2\" >-2.5000</td>\n",
              "      <td id=\"T_19a24_row20_col3\" class=\"data row20 col3\" >3.4375</td>\n",
              "    </tr>\n",
              "    <tr>\n",
              "      <td id=\"T_19a24_row21_col0\" class=\"data row21 col0\" >27</td>\n",
              "      <td id=\"T_19a24_row21_col1\" class=\"data row21 col1\" >0.9991</td>\n",
              "      <td id=\"T_19a24_row21_col2\" class=\"data row21 col2\" >-4.8958</td>\n",
              "      <td id=\"T_19a24_row21_col3\" class=\"data row21 col3\" >5.8949</td>\n",
              "    </tr>\n",
              "    <tr>\n",
              "      <td id=\"T_19a24_row22_col0\" class=\"data row22 col0\" >28</td>\n",
              "      <td id=\"T_19a24_row22_col1\" class=\"data row22 col1\" >0.9397</td>\n",
              "      <td id=\"T_19a24_row22_col2\" class=\"data row22 col2\" >-8.1667</td>\n",
              "      <td id=\"T_19a24_row22_col3\" class=\"data row22 col3\" >9.1064</td>\n",
              "    </tr>\n",
              "    <tr>\n",
              "      <td id=\"T_19a24_row23_col0\" class=\"data row23 col0\" >29</td>\n",
              "      <td id=\"T_19a24_row23_col1\" class=\"data row23 col1\" >0.9399</td>\n",
              "      <td id=\"T_19a24_row23_col2\" class=\"data row23 col2\" >-12.4375</td>\n",
              "      <td id=\"T_19a24_row23_col3\" class=\"data row23 col3\" >13.3774</td>\n",
              "    </tr>\n",
              "    <tr>\n",
              "      <td id=\"T_19a24_row24_col0\" class=\"data row24 col0\" >30</td>\n",
              "      <td id=\"T_19a24_row24_col1\" class=\"data row24 col1\" >1.0000</td>\n",
              "      <td id=\"T_19a24_row24_col2\" class=\"data row24 col2\" >-17.8333</td>\n",
              "      <td id=\"T_19a24_row24_col3\" class=\"data row24 col3\" >18.8333</td>\n",
              "    </tr>\n",
              "  </tbody>\n",
              "</table>\n"
            ]
          },
          "metadata": {}
        },
        {
          "output_type": "display_data",
          "data": {
            "text/plain": [
              "<IPython.core.display.Markdown object>"
            ],
            "text/markdown": "\n## 2. Análisis del Error de Aproximación"
          },
          "metadata": {}
        },
        {
          "output_type": "display_data",
          "data": {
            "text/plain": [
              "<IPython.core.display.Markdown object>"
            ],
            "text/markdown": "### Error Promedio"
          },
          "metadata": {}
        },
        {
          "output_type": "display_data",
          "data": {
            "text/plain": [
              "<IPython.core.display.Markdown object>"
            ],
            "text/markdown": "El error promedio en todo el conjunto de datos es: **10.5277**"
          },
          "metadata": {}
        },
        {
          "output_type": "display_data",
          "data": {
            "text/plain": [
              "<IPython.core.display.Markdown object>"
            ],
            "text/markdown": "### Error Máximo"
          },
          "metadata": {}
        },
        {
          "output_type": "display_data",
          "data": {
            "text/plain": [
              "<IPython.core.display.Markdown object>"
            ],
            "text/markdown": "El error máximo encontrado es: **54.1267**"
          },
          "metadata": {}
        },
        {
          "output_type": "display_data",
          "data": {
            "text/plain": [
              "<IPython.core.display.Markdown object>"
            ],
            "text/markdown": "### Distribución del Error por Rangos"
          },
          "metadata": {}
        },
        {
          "output_type": "display_data",
          "data": {
            "text/plain": [
              "<IPython.core.display.Markdown object>"
            ],
            "text/markdown": "* **Rango cercano** ($x \\in [17, 23]$): Error promedio = **0.0922**"
          },
          "metadata": {}
        },
        {
          "output_type": "display_data",
          "data": {
            "text/plain": [
              "<IPython.core.display.Markdown object>"
            ],
            "text/markdown": "* **Rango lejano** ($x < 17$ o $x > 23$): Error promedio = **14.5860**"
          },
          "metadata": {}
        }
      ]
    },
    {
      "cell_type": "code",
      "source": [
        "# --- 1. PREPARACIÓN DE DATOS ---\n",
        "# Recreamos el DataFrame original y los cálculos de la aproximación.\n",
        "data = {\n",
        "    'Salario': [6, 7, 8, 9, 10, 11, 12, 13, 14, 15, 16, 17, 18, 19, 20, 21, 22, 23, 24, 25, 26, 27, 28, 29, 30],\n",
        "    'Valor Real': [0.0400, 0.0400, 0.0400, 0.0400, 0.0000, 0.0399, 0.0003, 0.0391, 0.0575, 0.0533, 0.0420, 0.0074, 0.0992, 0.2489, 0.5000, 0.6911, 0.8408, 0.8926, 0.9620, 0.9533, 0.9375, 0.9991, 0.9397, 0.9399, 1.0000]\n",
        "}\n",
        "df = pd.DataFrame(data)\n",
        "\n",
        "# Definimos el polinomio de Taylor P3(x)\n",
        "def polinomio_taylor_p3(x):\n",
        "    x0 = 20\n",
        "    return 0.5 + 0.25 * (x - x0) - ((x - x0)**3) / 48\n",
        "\n",
        "# Calculamos los valores aproximados\n",
        "df['Aproximación'] = df['Salario'].apply(polinomio_taylor_p3)\n",
        "\n",
        "\n",
        "# --- 2. GENERACIÓN DEL GRÁFICO ---\n",
        "# Configuramos el estilo y tamaño del gráfico\n",
        "plt.style.use('seaborn-v0_8-whitegrid')\n",
        "fig, ax = plt.subplots(figsize=(12, 8))\n",
        "\n",
        "# a) Graficar los valores reales como puntos (scatter plot)\n",
        "ax.scatter(df['Salario'], df['Valor Real'], color='blue', label='Valores Reales (Datos)', zorder=5)\n",
        "\n",
        "# b) Graficar la función del polinomio de Taylor como una línea continua\n",
        "# Generamos más puntos para que la curva se vea suave\n",
        "x_smooth = np.linspace(df['Salario'].min(), df['Salario'].max(), 400)\n",
        "y_smooth = polinomio_taylor_p3(x_smooth)\n",
        "ax.plot(x_smooth, y_smooth, color='red', linestyle='--', label='Aproximación de Taylor (P3)', linewidth=2)\n",
        "\n",
        "# c) Añadir líneas de referencia para mejorar el análisis\n",
        "ax.axvline(x=20, color='green', linestyle=':', label='$x_0 = 20$ (Centro)', linewidth=2)\n",
        "ax.axhline(y=0, color='black', linestyle='-', linewidth=0.7)\n",
        "ax.axhline(y=1, color='black', linestyle='-', linewidth=0.7)\n",
        "\n",
        "# d) Configurar etiquetas, título y leyenda\n",
        "ax.set_title('Comparación: Valores Reales vs. Aproximación de Taylor', fontsize=16)\n",
        "ax.set_xlabel('Salario (en miles)', fontsize=12)\n",
        "ax.set_ylabel('Probabilidad de Compra', fontsize=12)\n",
        "\n",
        "# Ajustamos el eje Y para poder ver la divergencia del polinomio\n",
        "ax.set_ylim(-20, 60)\n",
        "ax.legend(loc='upper left', fontsize=11)\n",
        "\n",
        "# Mostrar el gráfico\n",
        "plt.show()"
      ],
      "metadata": {
        "colab": {
          "base_uri": "https://localhost:8080/",
          "height": 736
        },
        "id": "AxUjaLj9Jdfm",
        "outputId": "90f889b0-6f6c-43ea-ec15-31bb22600edb"
      },
      "execution_count": 7,
      "outputs": [
        {
          "output_type": "display_data",
          "data": {
            "text/plain": [
              "<Figure size 1200x800 with 1 Axes>"
            ],
            "image/png": "[encoded data removed]"
          },
          "metadata": {}
        }
      ]
    }
  ]
}