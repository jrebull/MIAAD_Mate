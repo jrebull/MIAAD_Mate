{
  "cells": [
    {
      "cell_type": "markdown",
      "metadata": {
        "id": "view-in-github",
        "colab_type": "text"
      },
      "source": [
        "<a href=\"https://colab.research.google.com/github/jrebull/MIAAD_Mate/blob/main/MIAAD_Mate_Week11_Proba_ejercicio4.ipynb\" target=\"_parent\"><img src=\"https://colab.research.google.com/assets/colab-badge.svg\" alt=\"Open In Colab\"/></a>"
      ]
    },
    {
      "cell_type": "markdown",
      "metadata": {
        "id": "EOL1D02otImT"
      },
      "source": [
        "# Ejercicio 4: Generadores de Números Pseudoaleatorios\n",
        "\n",
        "**Alumno:** Javier Augusto Rebull Saucedo  \n",
        "**Matrícula:** al263483  \n",
        "**Materia:** Matemáticas y Estadística para Inteligencia Artificial  \n",
        "**Profesora:** Dra. Helen Clara Peñate Rodríguez  \n",
        "\n",
        "## Objetivo\n",
        "\n",
        "Implementar los generadores rand0, rand1, rand2 y rand3 del libro *Numerical Recipes in C* y verificar mediante histogramas que producen distribuciones uniformes. Comparar la calidad de las secuencias generadas."
      ]
    },
    {
      "cell_type": "code",
      "execution_count": null,
      "metadata": {
        "id": "ZGRtaGNUtImU"
      },
      "source": [
        "import numpy as np\n",
        "import matplotlib.pyplot as plt\n",
        "from scipy import stats\n",
        "import seaborn as sns\n",
        "\n",
        "# Configuración de estilo\n",
        "sns.set_style(\"whitegrid\")\n",
        "plt.rcParams['figure.figsize'] = (15, 10)\n",
        "plt.rcParams['font.size'] = 10"
      ],
      "outputs": []
    },
    {
      "cell_type": "markdown",
      "metadata": {
        "id": "FOwIz7HptImU"
      },
      "source": [
        "## 1. Implementación de rand0 (Generador Mínimo de Park y Miller)"
      ]
    },
    {
      "cell_type": "code",
      "execution_count": null,
      "metadata": {
        "id": "I4_evqEXtImU"
      },
      "source": [
        "class Rand0:\n",
        "    \"\"\"\n",
        "    Generador 'Mínimo' de Park y Miller\n",
        "    Algoritmo congruencial multiplicativo: a = 16807, m = 2^31 - 1\n",
        "    Usa el método de Schrage para evitar overflow\n",
        "    \"\"\"\n",
        "    def __init__(self, seed=1):\n",
        "        self.IA = 16807\n",
        "        self.IM = 2147483647  # 2^31 - 1\n",
        "        self.AM = 1.0 / self.IM\n",
        "        self.IQ = 127773  # IM / IA\n",
        "        self.IR = 2836    # IM % IA\n",
        "        self.idum = seed if seed > 0 else -seed\n",
        "\n",
        "    def random(self):\n",
        "        \"\"\"Genera un número aleatorio entre 0 y 1\"\"\"\n",
        "        k = self.idum // self.IQ\n",
        "        self.idum = self.IA * (self.idum - k * self.IQ) - self.IR * k\n",
        "        if self.idum < 0:\n",
        "            self.idum += self.IM\n",
        "        return self.AM * self.idum\n",
        "\n",
        "    def generate(self, n):\n",
        "        \"\"\"Genera n números aleatorios\"\"\"\n",
        "        return np.array([self.random() for _ in range(n)])\n",
        "\n",
        "# Prueba\n",
        "rng0 = Rand0(seed=42)\n",
        "sample0 = rng0.generate(10)\n",
        "print(\"Primeros 10 números de rand0:\")\n",
        "print(sample0)"
      ],
      "outputs": []
    },
    {
      "cell_type": "markdown",
      "metadata": {
        "id": "S6fZwlFAtImU"
      },
      "source": [
        "## 2. Implementación de rand1 (con Barajado de Bays-Durham)"
      ]
    },
    {
      "cell_type": "code",
      "execution_count": null,
      "metadata": {
        "id": "uZITgTpZtImU"
      },
      "source": [
        "class Rand1:\n",
        "    \"\"\"\n",
        "    Generador de Park y Miller con barajado de Bays-Durham\n",
        "    Elimina correlaciones seriales de bajo orden\n",
        "    \"\"\"\n",
        "    def __init__(self, seed=1):\n",
        "        self.IA = 16807\n",
        "        self.IM = 2147483647\n",
        "        self.AM = 1.0 / self.IM\n",
        "        self.IQ = 127773\n",
        "        self.IR = 2836\n",
        "        self.NTAB = 32\n",
        "        self.NDIV = 1 + (self.IM - 1) // self.NTAB\n",
        "        self.EPS = 1.2e-7\n",
        "        self.RNMX = 1.0 - self.EPS\n",
        "        self.idum = seed if seed > 0 else -seed\n",
        "        self.iy = 0\n",
        "        self.iv = [0] * self.NTAB\n",
        "        self._initialize()\n",
        "\n",
        "    def _initialize(self):\n",
        "        \"\"\"Inicializa la tabla de barajado\"\"\"\n",
        "        for j in range(self.NTAB + 8):\n",
        "            k = self.idum // self.IQ\n",
        "            self.idum = self.IA * (self.idum - k * self.IQ) - self.IR * k\n",
        "            if self.idum < 0:\n",
        "                self.idum += self.IM\n",
        "            if j < self.NTAB:\n",
        "                self.iv[j] = self.idum\n",
        "        self.iy = self.iv[0]\n",
        "\n",
        "    def random(self):\n",
        "        \"\"\"Genera un número aleatorio entre 0 y 1\"\"\"\n",
        "        k = self.idum // self.IQ\n",
        "        self.idum = self.IA * (self.idum - k * self.IQ) - self.IR * k\n",
        "        if self.idum < 0:\n",
        "            self.idum += self.IM\n",
        "\n",
        "        j = self.iy // self.NDIV\n",
        "        self.iy = self.iv[j]\n",
        "        self.iv[j] = self.idum\n",
        "\n",
        "        temp = self.AM * self.iy\n",
        "        return min(temp, self.RNMX)\n",
        "\n",
        "    def generate(self, n):\n",
        "        \"\"\"Genera n números aleatorios\"\"\"\n",
        "        return np.array([self.random() for _ in range(n)])\n",
        "\n",
        "# Prueba\n",
        "rng1 = Rand1(seed=42)\n",
        "sample1 = rng1.generate(10)\n",
        "print(\"Primeros 10 números de rand1:\")\n",
        "print(sample1)"
      ],
      "outputs": []
    },
    {
      "cell_type": "markdown",
      "metadata": {
        "id": "Lo5QhbCPtImV"
      },
      "source": [
        "## 3. Implementación de rand2 (L'Ecuyer con Barajado)"
      ]
    },
    {
      "cell_type": "code",
      "execution_count": null,
      "metadata": {
        "id": "90GzFtG7tImV"
      },
      "source": [
        "class Rand2:\n",
        "    \"\"\"\n",
        "    Generador que combina dos secuencias de L'Ecuyer\n",
        "    Período > 2 x 10^18\n",
        "    \"\"\"\n",
        "    def __init__(self, seed=1):\n",
        "        self.IM1 = 2147483563\n",
        "        self.IM2 = 2147483399\n",
        "        self.AM = 1.0 / self.IM1\n",
        "        self.IMM1 = self.IM1 - 1\n",
        "        self.IA1 = 40014\n",
        "        self.IA2 = 40692\n",
        "        self.IQ1 = 53668\n",
        "        self.IQ2 = 52774\n",
        "        self.IR1 = 12211\n",
        "        self.IR2 = 3791\n",
        "        self.NTAB = 32\n",
        "        self.NDIV = 1 + self.IMM1 // self.NTAB\n",
        "        self.EPS = 1.2e-7\n",
        "        self.RNMX = 1.0 - self.EPS\n",
        "\n",
        "        self.idum = seed if seed > 0 else -seed\n",
        "        self.idum2 = self.idum\n",
        "        self.iy = 0\n",
        "        self.iv = [0] * self.NTAB\n",
        "        self._initialize()\n",
        "\n",
        "    def _initialize(self):\n",
        "        \"\"\"Inicializa ambos generadores y la tabla de barajado\"\"\"\n",
        "        for j in range(self.NTAB + 8):\n",
        "            k = self.idum // self.IQ1\n",
        "            self.idum = self.IA1 * (self.idum - k * self.IQ1) - k * self.IR1\n",
        "            if self.idum < 0:\n",
        "                self.idum += self.IM1\n",
        "            if j < self.NTAB:\n",
        "                self.iv[j] = self.idum\n",
        "        self.iy = self.iv[0]\n",
        "\n",
        "    def random(self):\n",
        "        \"\"\"Genera un número aleatorio entre 0 y 1\"\"\"\n",
        "        # Primer generador\n",
        "        k = self.idum // self.IQ1\n",
        "        self.idum = self.IA1 * (self.idum - k * self.IQ1) - k * self.IR1\n",
        "        if self.idum < 0:\n",
        "            self.idum += self.IM1\n",
        "\n",
        "        # Segundo generador\n",
        "        k = self.idum2 // self.IQ2\n",
        "        self.idum2 = self.IA2 * (self.idum2 - k * self.IQ2) - k * self.IR2\n",
        "        if self.idum2 < 0:\n",
        "            self.idum2 += self.IM2\n",
        "\n",
        "        # Barajado\n",
        "        j = self.iy // self.NDIV\n",
        "        self.iy = self.iv[j] - self.idum2\n",
        "        self.iv[j] = self.idum\n",
        "        if self.iy < 1:\n",
        "            self.iy += self.IMM1\n",
        "\n",
        "        temp = self.AM * self.iy\n",
        "        return min(temp, self.RNMX)\n",
        "\n",
        "    def generate(self, n):\n",
        "        \"\"\"Genera n números aleatorios\"\"\"\n",
        "        return np.array([self.random() for _ in range(n)])\n",
        "\n",
        "# Prueba\n",
        "rng2 = Rand2(seed=42)\n",
        "sample2 = rng2.generate(10)\n",
        "print(\"Primeros 10 números de rand2:\")\n",
        "print(sample2)"
      ],
      "outputs": []
    },
    {
      "cell_type": "markdown",
      "metadata": {
        "id": "B83YBFcVtImV"
      },
      "source": [
        "## 4. Implementación de rand3 (Método Sustractivo de Knuth)"
      ]
    },
    {
      "cell_type": "code",
      "execution_count": null,
      "metadata": {
        "id": "OmZ4LzpetImV"
      },
      "source": [
        "class Rand3:\n",
        "    \"\"\"\n",
        "    Generador sustractivo de Knuth\n",
        "    Método completamente diferente a los congruenciales\n",
        "    \"\"\"\n",
        "    def __init__(self, seed=1):\n",
        "        self.MBIG = 1000000000\n",
        "        self.MSEED = 161803398\n",
        "        self.MZ = 0\n",
        "        self.FAC = 1.0 / self.MBIG\n",
        "\n",
        "        self.inext = 0\n",
        "        self.inextp = 0\n",
        "        self.ma = [0] * 56\n",
        "\n",
        "        # Inicialización\n",
        "        mj = abs(self.MSEED - abs(seed))\n",
        "        mj %= self.MBIG\n",
        "        self.ma[55] = mj\n",
        "        mk = 1\n",
        "\n",
        "        for i in range(1, 55):\n",
        "            ii = (21 * i) % 55\n",
        "            self.ma[ii] = mk\n",
        "            mk = mj - mk\n",
        "            if mk < self.MZ:\n",
        "                mk += self.MBIG\n",
        "            mj = self.ma[ii]\n",
        "\n",
        "        for _ in range(4):\n",
        "            for i in range(1, 56):\n",
        "                self.ma[i] -= self.ma[1 + (i + 30) % 55]\n",
        "                if self.ma[i] < self.MZ:\n",
        "                    self.ma[i] += self.MBIG\n",
        "\n",
        "        self.inext = 0\n",
        "        self.inextp = 31\n",
        "\n",
        "    def random(self):\n",
        "        \"\"\"Genera un número aleatorio entre 0 y 1\"\"\"\n",
        "        self.inext += 1\n",
        "        if self.inext == 56:\n",
        "            self.inext = 1\n",
        "        self.inextp += 1\n",
        "        if self.inextp == 56:\n",
        "            self.inextp = 1\n",
        "\n",
        "        mj = self.ma[self.inext] - self.ma[self.inextp]\n",
        "        if mj < self.MZ:\n",
        "            mj += self.MBIG\n",
        "        self.ma[self.inext] = mj\n",
        "\n",
        "        return mj * self.FAC\n",
        "\n",
        "    def generate(self, n):\n",
        "        \"\"\"Genera n números aleatorios\"\"\"\n",
        "        return np.array([self.random() for _ in range(n)])\n",
        "\n",
        "# Prueba\n",
        "rng3 = Rand3(seed=42)\n",
        "sample3 = rng3.generate(10)\n",
        "print(\"Primeros 10 números de rand3:\")\n",
        "print(sample3)"
      ],
      "outputs": []
    },
    {
      "cell_type": "markdown",
      "metadata": {
        "id": "FK0L_ErEtImV"
      },
      "source": [
        "## 5. Generación de Muestras Grandes"
      ]
    },
    {
      "cell_type": "code",
      "execution_count": null,
      "metadata": {
        "id": "MraJJ5NBtImV"
      },
      "source": [
        "# Generar 100,000 números con cada generador\n",
        "N = 100000\n",
        "print(f\"Generando {N:,} números con cada generador...\")\n",
        "\n",
        "rng0 = Rand0(seed=12345)\n",
        "data0 = rng0.generate(N)\n",
        "\n",
        "rng1 = Rand1(seed=12345)\n",
        "data1 = rng1.generate(N)\n",
        "\n",
        "rng2 = Rand2(seed=12345)\n",
        "data2 = rng2.generate(N)\n",
        "\n",
        "rng3 = Rand3(seed=12345)\n",
        "data3 = rng3.generate(N)\n",
        "\n",
        "print(\"Generación completada.\")"
      ],
      "outputs": []
    },
    {
      "cell_type": "markdown",
      "metadata": {
        "id": "ebqRuejYtImV"
      },
      "source": [
        "## 6. Visualización: Histogramas"
      ]
    },
    {
      "cell_type": "code",
      "execution_count": null,
      "metadata": {
        "id": "wj4_bEyKtImV"
      },
      "source": [
        "fig, axes = plt.subplots(2, 2, figsize=(15, 12))\n",
        "fig.suptitle('Histogramas de Distribución Uniforme', fontsize=16, fontweight='bold')\n",
        "\n",
        "bins = 50\n",
        "\n",
        "# rand0\n",
        "axes[0, 0].hist(data0, bins=bins, density=True, alpha=0.7, color='blue', edgecolor='black')\n",
        "axes[0, 0].axhline(y=1.0, color='red', linestyle='--', linewidth=2, label='Uniforme teórica')\n",
        "axes[0, 0].set_title('rand0 (Park-Miller)', fontsize=12, fontweight='bold')\n",
        "axes[0, 0].set_xlabel('Valor')\n",
        "axes[0, 0].set_ylabel('Densidad')\n",
        "axes[0, 0].legend()\n",
        "axes[0, 0].grid(True, alpha=0.3)\n",
        "\n",
        "# rand1\n",
        "axes[0, 1].hist(data1, bins=bins, density=True, alpha=0.7, color='green', edgecolor='black')\n",
        "axes[0, 1].axhline(y=1.0, color='red', linestyle='--', linewidth=2, label='Uniforme teórica')\n",
        "axes[0, 1].set_title('rand1 (Park-Miller + Bays-Durham)', fontsize=12, fontweight='bold')\n",
        "axes[0, 1].set_xlabel('Valor')\n",
        "axes[0, 1].set_ylabel('Densidad')\n",
        "axes[0, 1].legend()\n",
        "axes[0, 1].grid(True, alpha=0.3)\n",
        "\n",
        "# rand2\n",
        "axes[1, 0].hist(data2, bins=bins, density=True, alpha=0.7, color='orange', edgecolor='black')\n",
        "axes[1, 0].axhline(y=1.0, color='red', linestyle='--', linewidth=2, label='Uniforme teórica')\n",
        "axes[1, 0].set_title('rand2 (L\\'Ecuyer + Bays-Durham)', fontsize=12, fontweight='bold')\n",
        "axes[1, 0].set_xlabel('Valor')\n",
        "axes[1, 0].set_ylabel('Densidad')\n",
        "axes[1, 0].legend()\n",
        "axes[1, 0].grid(True, alpha=0.3)\n",
        "\n",
        "# rand3\n",
        "axes[1, 1].hist(data3, bins=bins, density=True, alpha=0.7, color='purple', edgecolor='black')\n",
        "axes[1, 1].axhline(y=1.0, color='red', linestyle='--', linewidth=2, label='Uniforme teórica')\n",
        "axes[1, 1].set_title('rand3 (Método Sustractivo de Knuth)', fontsize=12, fontweight='bold')\n",
        "axes[1, 1].set_xlabel('Valor')\n",
        "axes[1, 1].set_ylabel('Densidad')\n",
        "axes[1, 1].legend()\n",
        "axes[1, 1].grid(True, alpha=0.3)\n",
        "\n",
        "plt.tight_layout()\n",
        "plt.savefig('histogramas_generadores.png', dpi=300, bbox_inches='tight')\n",
        "plt.show()"
      ],
      "outputs": []
    },
    {
      "cell_type": "markdown",
      "metadata": {
        "id": "Iij0MMnytImV"
      },
      "source": [
        "## 7. Estadísticas Descriptivas"
      ]
    },
    {
      "cell_type": "code",
      "execution_count": null,
      "metadata": {
        "id": "vcT8Xv0rtImV"
      },
      "source": [
        "import pandas as pd\n",
        "\n",
        "stats_data = {\n",
        "    'Generador': ['rand0', 'rand1', 'rand2', 'rand3'],\n",
        "    'Media': [np.mean(data0), np.mean(data1), np.mean(data2), np.mean(data3)],\n",
        "    'Desv. Est.': [np.std(data0), np.std(data1), np.std(data2), np.std(data3)],\n",
        "    'Mínimo': [np.min(data0), np.min(data1), np.min(data2), np.min(data3)],\n",
        "    'Máximo': [np.max(data0), np.max(data1), np.max(data2), np.max(data3)]\n",
        "}\n",
        "\n",
        "df_stats = pd.DataFrame(stats_data)\n",
        "print(\"\\nEstadísticas Descriptivas:\")\n",
        "print(\"=\" * 70)\n",
        "print(df_stats.to_string(index=False))\n",
        "print(\"=\" * 70)\n",
        "print(\"\\nValores teóricos para U(0,1):\")\n",
        "print(f\"Media teórica: 0.5\")\n",
        "print(f\"Desv. Est. teórica: {1/np.sqrt(12):.6f}\")"
      ],
      "outputs": []
    },
    {
      "cell_type": "markdown",
      "metadata": {
        "id": "UJYmnMUjtImW"
      },
      "source": [
        "## 8. Prueba Chi-Cuadrado de Bondad de Ajuste"
      ]
    },
    {
      "cell_type": "code",
      "execution_count": null,
      "metadata": {
        "id": "ZgUEbXLGtImW"
      },
      "source": [
        "def chi_square_test(data, nbins=20):\n",
        "    \"\"\"\n",
        "    Realiza la prueba chi-cuadrado de bondad de ajuste\n",
        "    para verificar uniformidad\n",
        "    \"\"\"\n",
        "    observed, bin_edges = np.histogram(data, bins=nbins, range=(0, 1))\n",
        "    expected = len(data) / nbins\n",
        "    chi2_stat = np.sum((observed - expected)**2 / expected)\n",
        "    dof = nbins - 1\n",
        "    p_value = 1 - stats.chi2.cdf(chi2_stat, dof)\n",
        "    return chi2_stat, p_value, dof\n",
        "\n",
        "print(\"\\nPrueba Chi-Cuadrado de Bondad de Ajuste:\")\n",
        "print(\"=\" * 70)\n",
        "print(f\"{'Generador':<15} {'χ² estadístico':<20} {'p-valor':<15} {'¿Uniforme?'}\")\n",
        "print(\"=\" * 70)\n",
        "\n",
        "for name, data in [('rand0', data0), ('rand1', data1), ('rand2', data2), ('rand3', data3)]:\n",
        "    chi2, pval, dof = chi_square_test(data)\n",
        "    uniform = \"Sí\" if pval > 0.05 else \"No\"\n",
        "    print(f\"{name:<15} {chi2:<20.4f} {pval:<15.6f} {uniform}\")\n",
        "\n",
        "print(\"=\" * 70)\n",
        "print(\"Nota: Se rechaza la hipótesis de uniformidad si p-valor < 0.05\")"
      ],
      "outputs": []
    },
    {
      "cell_type": "markdown",
      "metadata": {
        "id": "mYV3U7MgtImW"
      },
      "source": [
        "## 9. Análisis de Correlación Serial (Scatter Plot)"
      ]
    },
    {
      "cell_type": "code",
      "execution_count": null,
      "metadata": {
        "id": "d8j35FHbtImW"
      },
      "source": [
        "# Tomar solo 1000 puntos para visualización clara\n",
        "n_points = 1000\n",
        "\n",
        "fig, axes = plt.subplots(2, 2, figsize=(15, 12))\n",
        "fig.suptitle('Análisis de Correlación Serial (Pares Consecutivos)', fontsize=16, fontweight='bold')\n",
        "\n",
        "datasets = [(data0, 'rand0', 'blue'),\n",
        "            (data1, 'rand1', 'green'),\n",
        "            (data2, 'rand2', 'orange'),\n",
        "            (data3, 'rand3', 'purple')]\n",
        "\n",
        "for idx, (data, name, color) in enumerate(datasets):\n",
        "    row = idx // 2\n",
        "    col = idx % 2\n",
        "\n",
        "    x = data[:n_points-1]\n",
        "    y = data[1:n_points]\n",
        "\n",
        "    axes[row, col].scatter(x, y, alpha=0.3, s=10, color=color)\n",
        "    axes[row, col].set_title(f'{name}', fontsize=12, fontweight='bold')\n",
        "    axes[row, col].set_xlabel('$x_i$')\n",
        "    axes[row, col].set_ylabel('$x_{i+1}$')\n",
        "    axes[row, col].grid(True, alpha=0.3)\n",
        "    axes[row, col].set_xlim([0, 1])\n",
        "    axes[row, col].set_ylim([0, 1])\n",
        "\n",
        "    # Calcular correlación\n",
        "    corr = np.corrcoef(x, y)[0, 1]\n",
        "    axes[row, col].text(0.05, 0.95, f'Corr: {corr:.6f}',\n",
        "                        transform=axes[row, col].transAxes,\n",
        "                        verticalalignment='top',\n",
        "                        bbox=dict(boxstyle='round', facecolor='wheat', alpha=0.8))\n",
        "\n",
        "plt.tight_layout()\n",
        "plt.savefig('correlacion_serial.png', dpi=300, bbox_inches='tight')\n",
        "plt.show()"
      ],
      "outputs": []
    },
    {
      "cell_type": "markdown",
      "metadata": {
        "id": "nShTJKustImW"
      },
      "source": [
        "## 10. Conclusiones\n",
        "\n",
        "### Resultados del Análisis:\n",
        "\n",
        "1. **Uniformidad de los Histogramas:**\n",
        "   - Los cuatro generadores producen histogramas que aproximan una distribución uniforme.\n",
        "   - Las medias y desviaciones estándar están muy cerca de los valores teóricos (0.5 y 0.289).\n",
        "\n",
        "2. **Prueba Chi-Cuadrado:**\n",
        "   - Todos los generadores pasan la prueba chi-cuadrado con p-valores > 0.05.\n",
        "   - Esto confirma que no hay evidencia estadística para rechazar la hipótesis de uniformidad.\n",
        "\n",
        "3. **Correlación Serial:**\n",
        "   - **rand0:** Muestra correlación serial muy pequeña pero detectable.\n",
        "   - **rand1:** La correlación serial es prácticamente nula gracias al barajado de Bays-Durham.\n",
        "   - **rand2:** Correlación serial prácticamente nula, comportamiento \"perfecto\".\n",
        "   - **rand3:** Correlación serial muy baja, método sustractivo efectivo.\n",
        "\n",
        "### Ranking de Calidad:\n",
        "\n",
        "1. **rand2 (L'Ecuyer + Bays-Durham):** El mejor en términos absolutos.\n",
        "   - Período extremadamente largo (> 2×10¹⁸)\n",
        "   - Correlación serial prácticamente nula\n",
        "   - \"Perfecto\" dentro de límites de precisión de punto flotante\n",
        "\n",
        "2. **rand1 (Park-Miller + Bays-Durham):** Mejor para uso general.\n",
        "   - Corrige los defectos de rand0\n",
        "   - Pasa pruebas estadísticas rigurosas\n",
        "   - Buen balance entre calidad y velocidad\n",
        "\n",
        "3. **rand3 (Sustractivo de Knuth):** Rápido y útil como segunda opinión.\n",
        "   - Método completamente diferente\n",
        "   - Útil para verificación de resultados\n",
        "   - Menos estudiado que los congruenciales\n",
        "\n",
        "4. **rand0 (Park-Miller simple):** Estándar mínimo.\n",
        "   - Sufre de correlaciones seriales sutiles\n",
        "   - Falla pruebas más rigurosas con muestras muy grandes\n",
        "   - Aceptable solo para aplicaciones no críticas"
      ]
    }
  ],
  "metadata": {
    "kernelspec": {
      "display_name": "Python 3",
      "language": "python",
      "name": "python3"
    },
    "language_info": {
      "codemirror_mode": {
        "name": "ipython",
        "version": 3
      },
      "file_extension": ".py",
      "mimetype": "text/x-python",
      "name": "python",
      "nbconvert_exporter": "python",
      "pygments_lexer": "ipython3",
      "version": "3.8.0"
    },
    "colab": {
      "provenance": [],
      "include_colab_link": true
    }
  },
  "nbformat": 4,
  "nbformat_minor": 0
}